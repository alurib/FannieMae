{
 "cells": [
  {
   "cell_type": "markdown",
   "metadata": {},
   "source": [
    "# Import packages"
   ]
  },
  {
   "cell_type": "code",
   "execution_count": 36,
   "metadata": {
    "collapsed": true
   },
   "outputs": [],
   "source": [
    "import numpy as np \n",
    "import pandas as pd \n",
    "from sklearn.preprocessing import Imputer\n",
    "from sklearn.model_selection import train_test_split\n",
    "from sklearn.metrics import brier_score_loss\n",
    "from sklearn.tree import DecisionTreeClassifier \n",
    "from sklearn.linear_model import LogisticRegression\n",
    "from sklearn.ensemble import RandomForestClassifier\n",
    "import xgboost as xgb\n",
    "%matplotlib inline \n",
    "import matplotlib.pyplot as plt  \n",
    "import time"
   ]
  },
  {
   "cell_type": "code",
   "execution_count": 37,
   "metadata": {
    "collapsed": true
   },
   "outputs": [],
   "source": [
    "# Load the data "
   ]
  },
  {
   "cell_type": "markdown",
   "metadata": {},
   "source": [
    "This load will take a half minute or so. The competition dataset is a 40% random sample of the 23,634,219 loans Fannie acquired from 2000 Q1 to 2015 Q3. The first 20% are training set rows and the the second 20% are testing set rows. See the last column call 'is_Set'."
   ]
  },
  {
   "cell_type": "code",
   "execution_count": 38,
   "metadata": {},
   "outputs": [
    {
     "data": {
      "text/plain": [
       "27.348472595214844"
      ]
     },
     "execution_count": 38,
     "metadata": {},
     "output_type": "execute_result"
    }
   ],
   "source": [
    "load_starts = time.time()\n",
    "df = pd.read_csv('FannieDataVMCompetition.csv', sep='|') \n",
    "time.time() - load_starts"
   ]
  },
  {
   "cell_type": "code",
   "execution_count": 39,
   "metadata": {
    "scrolled": true
   },
   "outputs": [
    {
     "data": {
      "text/html": [
       "<div>\n",
       "<style>\n",
       "    .dataframe thead tr:only-child th {\n",
       "        text-align: right;\n",
       "    }\n",
       "\n",
       "    .dataframe thead th {\n",
       "        text-align: left;\n",
       "    }\n",
       "\n",
       "    .dataframe tbody tr th {\n",
       "        vertical-align: top;\n",
       "    }\n",
       "</style>\n",
       "<table border=\"1\" class=\"dataframe\">\n",
       "  <thead>\n",
       "    <tr style=\"text-align: right;\">\n",
       "      <th></th>\n",
       "      <th>LOAN_IDENTIFIER</th>\n",
       "      <th>CHANNEL</th>\n",
       "      <th>SELLER_NAME</th>\n",
       "      <th>ORIGINAL_INTEREST_RATE</th>\n",
       "      <th>ORIGINAL_UNPAID_PRINCIPAL_BALANCE</th>\n",
       "      <th>ORIGINAL_LOAN_TERM</th>\n",
       "      <th>ORIGINATION_DATE</th>\n",
       "      <th>FIRST_PAYMENT_DATE</th>\n",
       "      <th>ORIGINAL_LOAN_TO_VALUE</th>\n",
       "      <th>ORIGINAL_COMBINED_LOAN_TO_VALUE</th>\n",
       "      <th>...</th>\n",
       "      <th>PRODUCT_TYPE</th>\n",
       "      <th>CO_BORROWER_CREDIT_SCORE</th>\n",
       "      <th>MORTGAGE_INSURANCE_TYPE</th>\n",
       "      <th>METROPOLITAN_STATISTICAL_AREA</th>\n",
       "      <th>MSA_NAME</th>\n",
       "      <th>MSA_POPULATION</th>\n",
       "      <th>ZERO_BALANCE_CODE</th>\n",
       "      <th>YEAR</th>\n",
       "      <th>DEFAULT_FLAG</th>\n",
       "      <th>is_Set</th>\n",
       "    </tr>\n",
       "  </thead>\n",
       "  <tbody>\n",
       "    <tr>\n",
       "      <th>0</th>\n",
       "      <td>731259366993</td>\n",
       "      <td>R</td>\n",
       "      <td>BANK OF AMERICA, N.A.</td>\n",
       "      <td>6.875</td>\n",
       "      <td>108000.0</td>\n",
       "      <td>360</td>\n",
       "      <td>10/2008</td>\n",
       "      <td>12/2008</td>\n",
       "      <td>70.0</td>\n",
       "      <td>70.0</td>\n",
       "      <td>...</td>\n",
       "      <td>FRM</td>\n",
       "      <td>776.0</td>\n",
       "      <td>NaN</td>\n",
       "      <td>31080</td>\n",
       "      <td>Los Angeles-Long Beach-Anaheim, CA</td>\n",
       "      <td>12828837.0</td>\n",
       "      <td>NaN</td>\n",
       "      <td>2008</td>\n",
       "      <td>0</td>\n",
       "      <td>train</td>\n",
       "    </tr>\n",
       "    <tr>\n",
       "      <th>1</th>\n",
       "      <td>378253318765</td>\n",
       "      <td>R</td>\n",
       "      <td>OTHER</td>\n",
       "      <td>4.000</td>\n",
       "      <td>168000.0</td>\n",
       "      <td>360</td>\n",
       "      <td>06/2015</td>\n",
       "      <td>08/2015</td>\n",
       "      <td>73.0</td>\n",
       "      <td>73.0</td>\n",
       "      <td>...</td>\n",
       "      <td>FRM</td>\n",
       "      <td>687.0</td>\n",
       "      <td>NaN</td>\n",
       "      <td>28140</td>\n",
       "      <td>Kansas City, MO-KS</td>\n",
       "      <td>2009342.0</td>\n",
       "      <td>NaN</td>\n",
       "      <td>2015</td>\n",
       "      <td>0</td>\n",
       "      <td>train</td>\n",
       "    </tr>\n",
       "    <tr>\n",
       "      <th>2</th>\n",
       "      <td>741859238541</td>\n",
       "      <td>C</td>\n",
       "      <td>GMAC MORTGAGE, LLC</td>\n",
       "      <td>6.500</td>\n",
       "      <td>140000.0</td>\n",
       "      <td>360</td>\n",
       "      <td>08/2008</td>\n",
       "      <td>10/2008</td>\n",
       "      <td>85.0</td>\n",
       "      <td>85.0</td>\n",
       "      <td>...</td>\n",
       "      <td>FRM</td>\n",
       "      <td>767.0</td>\n",
       "      <td>1.0</td>\n",
       "      <td>44180</td>\n",
       "      <td>Springfield, MO</td>\n",
       "      <td>436712.0</td>\n",
       "      <td>1.0</td>\n",
       "      <td>2008</td>\n",
       "      <td>0</td>\n",
       "      <td>train</td>\n",
       "    </tr>\n",
       "    <tr>\n",
       "      <th>3</th>\n",
       "      <td>382868191590</td>\n",
       "      <td>R</td>\n",
       "      <td>OTHER</td>\n",
       "      <td>4.000</td>\n",
       "      <td>356000.0</td>\n",
       "      <td>360</td>\n",
       "      <td>03/2015</td>\n",
       "      <td>05/2015</td>\n",
       "      <td>75.0</td>\n",
       "      <td>75.0</td>\n",
       "      <td>...</td>\n",
       "      <td>FRM</td>\n",
       "      <td>NaN</td>\n",
       "      <td>NaN</td>\n",
       "      <td>47900</td>\n",
       "      <td>Washington-Arlington-Alexandria, DC-VA-MD-WV</td>\n",
       "      <td>5636232.0</td>\n",
       "      <td>NaN</td>\n",
       "      <td>2015</td>\n",
       "      <td>0</td>\n",
       "      <td>train</td>\n",
       "    </tr>\n",
       "    <tr>\n",
       "      <th>4</th>\n",
       "      <td>180085005240</td>\n",
       "      <td>C</td>\n",
       "      <td>AMTRUST BANK</td>\n",
       "      <td>7.250</td>\n",
       "      <td>121000.0</td>\n",
       "      <td>360</td>\n",
       "      <td>03/2001</td>\n",
       "      <td>05/2001</td>\n",
       "      <td>84.0</td>\n",
       "      <td>84.0</td>\n",
       "      <td>...</td>\n",
       "      <td>FRM</td>\n",
       "      <td>NaN</td>\n",
       "      <td>1.0</td>\n",
       "      <td>39300</td>\n",
       "      <td>Providence-Warwick, RI-MA</td>\n",
       "      <td>1600852.0</td>\n",
       "      <td>1.0</td>\n",
       "      <td>2001</td>\n",
       "      <td>0</td>\n",
       "      <td>train</td>\n",
       "    </tr>\n",
       "  </tbody>\n",
       "</table>\n",
       "<p>5 rows × 31 columns</p>\n",
       "</div>"
      ],
      "text/plain": [
       "   LOAN_IDENTIFIER CHANNEL            SELLER_NAME  ORIGINAL_INTEREST_RATE  \\\n",
       "0     731259366993       R  BANK OF AMERICA, N.A.                   6.875   \n",
       "1     378253318765       R                  OTHER                   4.000   \n",
       "2     741859238541       C     GMAC MORTGAGE, LLC                   6.500   \n",
       "3     382868191590       R                  OTHER                   4.000   \n",
       "4     180085005240       C           AMTRUST BANK                   7.250   \n",
       "\n",
       "   ORIGINAL_UNPAID_PRINCIPAL_BALANCE  ORIGINAL_LOAN_TERM ORIGINATION_DATE  \\\n",
       "0                           108000.0                 360          10/2008   \n",
       "1                           168000.0                 360          06/2015   \n",
       "2                           140000.0                 360          08/2008   \n",
       "3                           356000.0                 360          03/2015   \n",
       "4                           121000.0                 360          03/2001   \n",
       "\n",
       "  FIRST_PAYMENT_DATE  ORIGINAL_LOAN_TO_VALUE  ORIGINAL_COMBINED_LOAN_TO_VALUE  \\\n",
       "0            12/2008                    70.0                             70.0   \n",
       "1            08/2015                    73.0                             73.0   \n",
       "2            10/2008                    85.0                             85.0   \n",
       "3            05/2015                    75.0                             75.0   \n",
       "4            05/2001                    84.0                             84.0   \n",
       "\n",
       "    ...    PRODUCT_TYPE  CO_BORROWER_CREDIT_SCORE  MORTGAGE_INSURANCE_TYPE  \\\n",
       "0   ...             FRM                     776.0                      NaN   \n",
       "1   ...             FRM                     687.0                      NaN   \n",
       "2   ...             FRM                     767.0                      1.0   \n",
       "3   ...             FRM                       NaN                      NaN   \n",
       "4   ...             FRM                       NaN                      1.0   \n",
       "\n",
       "  METROPOLITAN_STATISTICAL_AREA                                      MSA_NAME  \\\n",
       "0                         31080            Los Angeles-Long Beach-Anaheim, CA   \n",
       "1                         28140                            Kansas City, MO-KS   \n",
       "2                         44180                               Springfield, MO   \n",
       "3                         47900  Washington-Arlington-Alexandria, DC-VA-MD-WV   \n",
       "4                         39300                     Providence-Warwick, RI-MA   \n",
       "\n",
       "  MSA_POPULATION  ZERO_BALANCE_CODE  YEAR DEFAULT_FLAG  is_Set  \n",
       "0     12828837.0                NaN  2008            0   train  \n",
       "1      2009342.0                NaN  2015            0   train  \n",
       "2       436712.0                1.0  2008            0   train  \n",
       "3      5636232.0                NaN  2015            0   train  \n",
       "4      1600852.0                1.0  2001            0   train  \n",
       "\n",
       "[5 rows x 31 columns]"
      ]
     },
     "execution_count": 39,
     "metadata": {},
     "output_type": "execute_result"
    }
   ],
   "source": [
    "df.head()"
   ]
  },
  {
   "cell_type": "code",
   "execution_count": 40,
   "metadata": {},
   "outputs": [
    {
     "data": {
      "text/plain": [
       "(9453687, 31)"
      ]
     },
     "execution_count": 40,
     "metadata": {},
     "output_type": "execute_result"
    }
   ],
   "source": [
    "df.shape"
   ]
  },
  {
   "cell_type": "code",
   "execution_count": 41,
   "metadata": {},
   "outputs": [
    {
     "data": {
      "text/plain": [
       "test     4726844\n",
       "train    4726843\n",
       "Name: is_Set, dtype: int64"
      ]
     },
     "execution_count": 41,
     "metadata": {},
     "output_type": "execute_result"
    }
   ],
   "source": [
    "df['is_Set'].value_counts()"
   ]
  },
  {
   "cell_type": "code",
   "execution_count": 42,
   "metadata": {},
   "outputs": [
    {
     "data": {
      "text/plain": [
       "4726843"
      ]
     },
     "execution_count": 42,
     "metadata": {},
     "output_type": "execute_result"
    }
   ],
   "source": [
    "n_train = df['is_Set'].value_counts()[1]\n",
    "n_train"
   ]
  },
  {
   "cell_type": "markdown",
   "metadata": {},
   "source": [
    "# Summarize the data"
   ]
  },
  {
   "cell_type": "markdown",
   "metadata": {},
   "source": [
    "The data frame below summarizes some important information about the columns in our dataset. This summary data frame is the concatenation of four other data frames: (1) variable name, (2) the variable's data type, (3) the number of unique values in the variable's column, and (4) number of nulls in the variable's column. \n",
    "\n",
    "We explore the data type of each variable to see if we need to change the data type before doing any more work. We investigate the number of nulls (or missing values) for each variable to see which of the variables need imputation work. We explore the number of unique values in each variable's column to see which variables need to become dummy variables. "
   ]
  },
  {
   "cell_type": "code",
   "execution_count": 43,
   "metadata": {},
   "outputs": [
    {
     "name": "stderr",
     "output_type": "stream",
     "text": [
      "/usr/local/anaconda/lib/python3.6/site-packages/ipykernel_launcher.py:1: FutureWarning: reshape is deprecated and will raise in a subsequent release. Please use .values.reshape(...) instead\n",
      "  \"\"\"Entry point for launching an IPython kernel.\n"
     ]
    },
    {
     "data": {
      "text/html": [
       "<div>\n",
       "<style>\n",
       "    .dataframe thead tr:only-child th {\n",
       "        text-align: right;\n",
       "    }\n",
       "\n",
       "    .dataframe thead th {\n",
       "        text-align: left;\n",
       "    }\n",
       "\n",
       "    .dataframe tbody tr th {\n",
       "        vertical-align: top;\n",
       "    }\n",
       "</style>\n",
       "<table border=\"1\" class=\"dataframe\">\n",
       "  <thead>\n",
       "    <tr style=\"text-align: right;\">\n",
       "      <th></th>\n",
       "      <th>Variable Name</th>\n",
       "      <th>Data Type</th>\n",
       "      <th>Nulls</th>\n",
       "      <th>Unique Values</th>\n",
       "    </tr>\n",
       "  </thead>\n",
       "  <tbody>\n",
       "    <tr>\n",
       "      <th>0</th>\n",
       "      <td>LOAN_IDENTIFIER</td>\n",
       "      <td>int64</td>\n",
       "      <td>0</td>\n",
       "      <td>9453687</td>\n",
       "    </tr>\n",
       "    <tr>\n",
       "      <th>1</th>\n",
       "      <td>CHANNEL</td>\n",
       "      <td>object</td>\n",
       "      <td>0</td>\n",
       "      <td>3</td>\n",
       "    </tr>\n",
       "    <tr>\n",
       "      <th>2</th>\n",
       "      <td>SELLER_NAME</td>\n",
       "      <td>object</td>\n",
       "      <td>0</td>\n",
       "      <td>72</td>\n",
       "    </tr>\n",
       "    <tr>\n",
       "      <th>3</th>\n",
       "      <td>ORIGINAL_INTEREST_RATE</td>\n",
       "      <td>float64</td>\n",
       "      <td>4</td>\n",
       "      <td>3802</td>\n",
       "    </tr>\n",
       "    <tr>\n",
       "      <th>4</th>\n",
       "      <td>ORIGINAL_UNPAID_PRINCIPAL_BALANCE</td>\n",
       "      <td>float64</td>\n",
       "      <td>0</td>\n",
       "      <td>984</td>\n",
       "    </tr>\n",
       "    <tr>\n",
       "      <th>5</th>\n",
       "      <td>ORIGINAL_LOAN_TERM</td>\n",
       "      <td>int64</td>\n",
       "      <td>0</td>\n",
       "      <td>60</td>\n",
       "    </tr>\n",
       "    <tr>\n",
       "      <th>6</th>\n",
       "      <td>ORIGINATION_DATE</td>\n",
       "      <td>object</td>\n",
       "      <td>0</td>\n",
       "      <td>201</td>\n",
       "    </tr>\n",
       "    <tr>\n",
       "      <th>7</th>\n",
       "      <td>FIRST_PAYMENT_DATE</td>\n",
       "      <td>object</td>\n",
       "      <td>0</td>\n",
       "      <td>202</td>\n",
       "    </tr>\n",
       "    <tr>\n",
       "      <th>8</th>\n",
       "      <td>ORIGINAL_LOAN_TO_VALUE</td>\n",
       "      <td>float64</td>\n",
       "      <td>3</td>\n",
       "      <td>97</td>\n",
       "    </tr>\n",
       "    <tr>\n",
       "      <th>9</th>\n",
       "      <td>ORIGINAL_COMBINED_LOAN_TO_VALUE</td>\n",
       "      <td>float64</td>\n",
       "      <td>100247</td>\n",
       "      <td>160</td>\n",
       "    </tr>\n",
       "    <tr>\n",
       "      <th>10</th>\n",
       "      <td>NUMBER_OF_BORROWERS</td>\n",
       "      <td>float64</td>\n",
       "      <td>2577</td>\n",
       "      <td>10</td>\n",
       "    </tr>\n",
       "    <tr>\n",
       "      <th>11</th>\n",
       "      <td>DEBT_TO_INCOME_RATIO</td>\n",
       "      <td>float64</td>\n",
       "      <td>212715</td>\n",
       "      <td>64</td>\n",
       "    </tr>\n",
       "    <tr>\n",
       "      <th>12</th>\n",
       "      <td>BORROWER_CREDIT_SCORE</td>\n",
       "      <td>float64</td>\n",
       "      <td>46082</td>\n",
       "      <td>482</td>\n",
       "    </tr>\n",
       "    <tr>\n",
       "      <th>13</th>\n",
       "      <td>FIRST_TIME_HOME_BUYER_INDICATOR</td>\n",
       "      <td>object</td>\n",
       "      <td>0</td>\n",
       "      <td>3</td>\n",
       "    </tr>\n",
       "    <tr>\n",
       "      <th>14</th>\n",
       "      <td>LOAN_PURPOSE</td>\n",
       "      <td>object</td>\n",
       "      <td>0</td>\n",
       "      <td>4</td>\n",
       "    </tr>\n",
       "    <tr>\n",
       "      <th>15</th>\n",
       "      <td>PROPERTY_TYPE</td>\n",
       "      <td>object</td>\n",
       "      <td>0</td>\n",
       "      <td>5</td>\n",
       "    </tr>\n",
       "    <tr>\n",
       "      <th>16</th>\n",
       "      <td>NUMBER_OF_UNITS</td>\n",
       "      <td>int64</td>\n",
       "      <td>0</td>\n",
       "      <td>4</td>\n",
       "    </tr>\n",
       "    <tr>\n",
       "      <th>17</th>\n",
       "      <td>OCCUPANCY_STATUS</td>\n",
       "      <td>object</td>\n",
       "      <td>0</td>\n",
       "      <td>3</td>\n",
       "    </tr>\n",
       "    <tr>\n",
       "      <th>18</th>\n",
       "      <td>PROPERTY_STATE</td>\n",
       "      <td>object</td>\n",
       "      <td>0</td>\n",
       "      <td>54</td>\n",
       "    </tr>\n",
       "    <tr>\n",
       "      <th>19</th>\n",
       "      <td>ZIP_3_DIGIT</td>\n",
       "      <td>int64</td>\n",
       "      <td>0</td>\n",
       "      <td>990</td>\n",
       "    </tr>\n",
       "    <tr>\n",
       "      <th>20</th>\n",
       "      <td>MORTGAGE_INSURANCE_PERCENTAGE</td>\n",
       "      <td>float64</td>\n",
       "      <td>7486290</td>\n",
       "      <td>43</td>\n",
       "    </tr>\n",
       "    <tr>\n",
       "      <th>21</th>\n",
       "      <td>PRODUCT_TYPE</td>\n",
       "      <td>object</td>\n",
       "      <td>0</td>\n",
       "      <td>1</td>\n",
       "    </tr>\n",
       "    <tr>\n",
       "      <th>22</th>\n",
       "      <td>CO_BORROWER_CREDIT_SCORE</td>\n",
       "      <td>float64</td>\n",
       "      <td>4935642</td>\n",
       "      <td>451</td>\n",
       "    </tr>\n",
       "    <tr>\n",
       "      <th>23</th>\n",
       "      <td>MORTGAGE_INSURANCE_TYPE</td>\n",
       "      <td>float64</td>\n",
       "      <td>7486290</td>\n",
       "      <td>2</td>\n",
       "    </tr>\n",
       "    <tr>\n",
       "      <th>24</th>\n",
       "      <td>METROPOLITAN_STATISTICAL_AREA</td>\n",
       "      <td>int64</td>\n",
       "      <td>0</td>\n",
       "      <td>405</td>\n",
       "    </tr>\n",
       "    <tr>\n",
       "      <th>25</th>\n",
       "      <td>MSA_NAME</td>\n",
       "      <td>object</td>\n",
       "      <td>1278053</td>\n",
       "      <td>381</td>\n",
       "    </tr>\n",
       "    <tr>\n",
       "      <th>26</th>\n",
       "      <td>MSA_POPULATION</td>\n",
       "      <td>float64</td>\n",
       "      <td>1278053</td>\n",
       "      <td>381</td>\n",
       "    </tr>\n",
       "    <tr>\n",
       "      <th>27</th>\n",
       "      <td>ZERO_BALANCE_CODE</td>\n",
       "      <td>float64</td>\n",
       "      <td>2677799</td>\n",
       "      <td>4</td>\n",
       "    </tr>\n",
       "    <tr>\n",
       "      <th>28</th>\n",
       "      <td>YEAR</td>\n",
       "      <td>int64</td>\n",
       "      <td>0</td>\n",
       "      <td>17</td>\n",
       "    </tr>\n",
       "    <tr>\n",
       "      <th>29</th>\n",
       "      <td>DEFAULT_FLAG</td>\n",
       "      <td>int64</td>\n",
       "      <td>0</td>\n",
       "      <td>2</td>\n",
       "    </tr>\n",
       "    <tr>\n",
       "      <th>30</th>\n",
       "      <td>is_Set</td>\n",
       "      <td>object</td>\n",
       "      <td>0</td>\n",
       "      <td>2</td>\n",
       "    </tr>\n",
       "  </tbody>\n",
       "</table>\n",
       "</div>"
      ],
      "text/plain": [
       "                        Variable Name Data Type    Nulls  Unique Values\n",
       "0                     LOAN_IDENTIFIER     int64        0        9453687\n",
       "1                             CHANNEL    object        0              3\n",
       "2                         SELLER_NAME    object        0             72\n",
       "3              ORIGINAL_INTEREST_RATE   float64        4           3802\n",
       "4   ORIGINAL_UNPAID_PRINCIPAL_BALANCE   float64        0            984\n",
       "5                  ORIGINAL_LOAN_TERM     int64        0             60\n",
       "6                    ORIGINATION_DATE    object        0            201\n",
       "7                  FIRST_PAYMENT_DATE    object        0            202\n",
       "8              ORIGINAL_LOAN_TO_VALUE   float64        3             97\n",
       "9     ORIGINAL_COMBINED_LOAN_TO_VALUE   float64   100247            160\n",
       "10                NUMBER_OF_BORROWERS   float64     2577             10\n",
       "11               DEBT_TO_INCOME_RATIO   float64   212715             64\n",
       "12              BORROWER_CREDIT_SCORE   float64    46082            482\n",
       "13    FIRST_TIME_HOME_BUYER_INDICATOR    object        0              3\n",
       "14                       LOAN_PURPOSE    object        0              4\n",
       "15                      PROPERTY_TYPE    object        0              5\n",
       "16                    NUMBER_OF_UNITS     int64        0              4\n",
       "17                   OCCUPANCY_STATUS    object        0              3\n",
       "18                     PROPERTY_STATE    object        0             54\n",
       "19                        ZIP_3_DIGIT     int64        0            990\n",
       "20      MORTGAGE_INSURANCE_PERCENTAGE   float64  7486290             43\n",
       "21                       PRODUCT_TYPE    object        0              1\n",
       "22           CO_BORROWER_CREDIT_SCORE   float64  4935642            451\n",
       "23            MORTGAGE_INSURANCE_TYPE   float64  7486290              2\n",
       "24      METROPOLITAN_STATISTICAL_AREA     int64        0            405\n",
       "25                           MSA_NAME    object  1278053            381\n",
       "26                     MSA_POPULATION   float64  1278053            381\n",
       "27                  ZERO_BALANCE_CODE   float64  2677799              4\n",
       "28                               YEAR     int64        0             17\n",
       "29                       DEFAULT_FLAG     int64        0              2\n",
       "30                             is_Set    object        0              2"
      ]
     },
     "execution_count": 43,
     "metadata": {},
     "output_type": "execute_result"
    }
   ],
   "source": [
    "summary_df = pd.concat([pd.DataFrame(df.columns), pd.DataFrame(df.dtypes.reshape(-1,1)),\n",
    "                        pd.DataFrame(df.isnull().sum().values), pd.DataFrame([df[name].nunique() for name in df.columns])],\n",
    "                       axis=1)\n",
    "summary_df.columns = ['Variable Name', 'Data Type', 'Nulls', 'Unique Values']\n",
    "summary_df"
   ]
  },
  {
   "cell_type": "code",
   "execution_count": 44,
   "metadata": {},
   "outputs": [
    {
     "data": {
      "text/plain": [
       "201067"
      ]
     },
     "execution_count": 44,
     "metadata": {},
     "output_type": "execute_result"
    }
   ],
   "source": [
    "df['DEFAULT_FLAG'].sum()"
   ]
  },
  {
   "cell_type": "markdown",
   "metadata": {},
   "source": [
    "# Impute missing values"
   ]
  },
  {
   "cell_type": "markdown",
   "metadata": {},
   "source": [
    "Let's impute missing values of non-categorical variables. We will use the mean of non-missing values of that variable as the filled-in value. To start, we impute for missing values in ORIGINAL_LOAN_TO_VALUE, DEBT_TO_INCOME_RATIO, and BORROWER_CREDIT_SCORE. Note that a variable such as NUMBER_OF_BORROWERS can be treated as a categorical variable. For a categorical variable a missing value will be treated as its own category, with its own dummy variable. After imputation, we create dummy variables. "
   ]
  },
  {
   "cell_type": "markdown",
   "metadata": {},
   "source": [
    "Impute ORIGINAL_LOAN_TO_VALUE."
   ]
  },
  {
   "cell_type": "code",
   "execution_count": 45,
   "metadata": {},
   "outputs": [
    {
     "data": {
      "text/plain": [
       "72.94526683989014"
      ]
     },
     "execution_count": 45,
     "metadata": {},
     "output_type": "execute_result"
    }
   ],
   "source": [
    "np.mean(df['ORIGINAL_LOAN_TO_VALUE'])"
   ]
  },
  {
   "cell_type": "code",
   "execution_count": 46,
   "metadata": {},
   "outputs": [
    {
     "data": {
      "text/plain": [
       "<matplotlib.axes._subplots.AxesSubplot at 0x7f52601a2940>"
      ]
     },
     "execution_count": 46,
     "metadata": {},
     "output_type": "execute_result"
    },
    {
     "data": {
      "image/png": "[encoded data removed]",
      "text/plain": [
       "<matplotlib.figure.Figure at 0x7f52601a2588>"
      ]
     },
     "metadata": {},
     "output_type": "display_data"
    }
   ],
   "source": [
    "df['ORIGINAL_LOAN_TO_VALUE'].hist()"
   ]
  },
  {
   "cell_type": "code",
   "execution_count": 47,
   "metadata": {
    "collapsed": true
   },
   "outputs": [],
   "source": [
    "fill_NaN = Imputer(missing_values=np.nan, strategy='mean', axis=0)"
   ]
  },
  {
   "cell_type": "code",
   "execution_count": 48,
   "metadata": {
    "collapsed": true
   },
   "outputs": [],
   "source": [
    "fill_median = Imputer(missing_values=np.nan, strategy='median', axis=0)"
   ]
  },
  {
   "cell_type": "code",
   "execution_count": 49,
   "metadata": {
    "collapsed": true
   },
   "outputs": [],
   "source": [
    "df['ORIGINAL_LOAN_TO_VALUE'] = fill_NaN.fit_transform(pd.DataFrame(df['ORIGINAL_LOAN_TO_VALUE']))"
   ]
  },
  {
   "cell_type": "markdown",
   "metadata": {},
   "source": [
    "Impute DEBT_TO_INCOME_RATIO."
   ]
  },
  {
   "cell_type": "code",
   "execution_count": 50,
   "metadata": {},
   "outputs": [
    {
     "data": {
      "text/plain": [
       "34.32230018660375"
      ]
     },
     "execution_count": 50,
     "metadata": {},
     "output_type": "execute_result"
    }
   ],
   "source": [
    "np.mean(df['DEBT_TO_INCOME_RATIO'])"
   ]
  },
  {
   "cell_type": "code",
   "execution_count": 51,
   "metadata": {},
   "outputs": [
    {
     "data": {
      "text/plain": [
       "<matplotlib.axes._subplots.AxesSubplot at 0x7f52601a2128>"
      ]
     },
     "execution_count": 51,
     "metadata": {},
     "output_type": "execute_result"
    },
    {
     "data": {
      "image/png": "[encoded data removed]",
      "text/plain": [
       "<matplotlib.figure.Figure at 0x7f526024f0f0>"
      ]
     },
     "metadata": {},
     "output_type": "display_data"
    }
   ],
   "source": [
    "df['DEBT_TO_INCOME_RATIO'].hist()"
   ]
  },
  {
   "cell_type": "code",
   "execution_count": 52,
   "metadata": {
    "collapsed": true
   },
   "outputs": [],
   "source": [
    "df['DEBT_TO_INCOME_RATIO'] = fill_NaN.fit_transform(pd.DataFrame(df['DEBT_TO_INCOME_RATIO']))"
   ]
  },
  {
   "cell_type": "markdown",
   "metadata": {},
   "source": [
    "Impute BORROWER_CREDIT_SCORE."
   ]
  },
  {
   "cell_type": "code",
   "execution_count": 53,
   "metadata": {},
   "outputs": [
    {
     "data": {
      "text/plain": [
       "737.9807289953181"
      ]
     },
     "execution_count": 53,
     "metadata": {},
     "output_type": "execute_result"
    }
   ],
   "source": [
    "np.mean(df['BORROWER_CREDIT_SCORE'])"
   ]
  },
  {
   "cell_type": "code",
   "execution_count": 54,
   "metadata": {},
   "outputs": [
    {
     "data": {
      "text/plain": [
       "<matplotlib.axes._subplots.AxesSubplot at 0x7f525ec717f0>"
      ]
     },
     "execution_count": 54,
     "metadata": {},
     "output_type": "execute_result"
    },
    {
     "data": {
      "image/png": "[encoded data removed]",
      "text/plain": [
       "<matplotlib.figure.Figure at 0x7f5260661a58>"
      ]
     },
     "metadata": {},
     "output_type": "display_data"
    }
   ],
   "source": [
    "df['BORROWER_CREDIT_SCORE'].hist()"
   ]
  },
  {
   "cell_type": "code",
   "execution_count": 55,
   "metadata": {
    "collapsed": true
   },
   "outputs": [],
   "source": [
    "df['BORROWER_CREDIT_SCORE'] = fill_NaN.fit_transform(pd.DataFrame(df['BORROWER_CREDIT_SCORE']))"
   ]
  },
  {
   "cell_type": "markdown",
   "metadata": {},
   "source": [
    "After imputation, go back up and run the df_summary cell."
   ]
  },
  {
   "cell_type": "code",
   "execution_count": 56,
   "metadata": {},
   "outputs": [
    {
     "data": {
      "text/plain": [
       "5.6458593319698664"
      ]
     },
     "execution_count": 56,
     "metadata": {},
     "output_type": "execute_result"
    }
   ],
   "source": [
    "np.mean(df['ORIGINAL_INTEREST_RATE'])"
   ]
  },
  {
   "cell_type": "code",
   "execution_count": 57,
   "metadata": {},
   "outputs": [
    {
     "data": {
      "text/plain": [
       "<matplotlib.axes._subplots.AxesSubplot at 0x7f525ebd34e0>"
      ]
     },
     "execution_count": 57,
     "metadata": {},
     "output_type": "execute_result"
    },
    {
     "data": {
      "image/png": "[encoded data removed]",
      "text/plain": [
       "<matplotlib.figure.Figure at 0x7f52604c2c88>"
      ]
     },
     "metadata": {},
     "output_type": "display_data"
    }
   ],
   "source": [
    "df['ORIGINAL_INTEREST_RATE'].hist()"
   ]
  },
  {
   "cell_type": "code",
   "execution_count": 58,
   "metadata": {
    "collapsed": true
   },
   "outputs": [],
   "source": [
    "df['ORIGINAL_INTEREST_RATE'] = fill_NaN.fit_transform(pd.DataFrame(df['ORIGINAL_INTEREST_RATE']))"
   ]
  },
  {
   "cell_type": "code",
   "execution_count": 59,
   "metadata": {
    "collapsed": true
   },
   "outputs": [],
   "source": [
    "#Imputing for Number of borrowers"
   ]
  },
  {
   "cell_type": "code",
   "execution_count": 60,
   "metadata": {},
   "outputs": [
    {
     "data": {
      "text/plain": [
       "2.0"
      ]
     },
     "execution_count": 60,
     "metadata": {},
     "output_type": "execute_result"
    }
   ],
   "source": [
    "df['NUMBER_OF_BORROWERS'].median()"
   ]
  },
  {
   "cell_type": "code",
   "execution_count": 61,
   "metadata": {},
   "outputs": [
    {
     "data": {
      "text/plain": [
       "<matplotlib.axes._subplots.AxesSubplot at 0x7f525eb0b588>"
      ]
     },
     "execution_count": 61,
     "metadata": {},
     "output_type": "execute_result"
    },
    {
     "data": {
      "image/png": "[encoded data removed]",
      "text/plain": [
       "<matplotlib.figure.Figure at 0x7f52604c2e48>"
      ]
     },
     "metadata": {},
     "output_type": "display_data"
    }
   ],
   "source": [
    "df['NUMBER_OF_BORROWERS'].hist()"
   ]
  },
  {
   "cell_type": "code",
   "execution_count": 62,
   "metadata": {
    "collapsed": true
   },
   "outputs": [],
   "source": [
    "df['NUMBER_OF_BORROWERS'] = fill_median.fit_transform(pd.DataFrame(df['NUMBER_OF_BORROWERS']))"
   ]
  },
  {
   "cell_type": "markdown",
   "metadata": {},
   "source": [
    "# Create dummies"
   ]
  },
  {
   "cell_type": "markdown",
   "metadata": {},
   "source": [
    "Candidates for dummy variables are categorical variables such as CHANNEL, NUMBER_OF_BORROWERS, and YEAR. A variable is a candidate for dummies if it takes on few levels and/or it is not ordered in any natural way. To get started, we create dummy variables for these variables. After we look at the loan counts by level, we create dummies and append them to the new data frame."
   ]
  },
  {
   "cell_type": "markdown",
   "metadata": {},
   "source": [
    "CHANNEL dummies"
   ]
  },
  {
   "cell_type": "code",
   "execution_count": 63,
   "metadata": {},
   "outputs": [
    {
     "data": {
      "text/plain": [
       "R    4338400\n",
       "C    3520486\n",
       "B    1594801\n",
       "Name: CHANNEL, dtype: int64"
      ]
     },
     "execution_count": 63,
     "metadata": {},
     "output_type": "execute_result"
    }
   ],
   "source": [
    "df['CHANNEL'].value_counts(dropna=False)"
   ]
  },
  {
   "cell_type": "code",
   "execution_count": 64,
   "metadata": {},
   "outputs": [
    {
     "data": {
      "text/html": [
       "<div>\n",
       "<style>\n",
       "    .dataframe thead tr:only-child th {\n",
       "        text-align: right;\n",
       "    }\n",
       "\n",
       "    .dataframe thead th {\n",
       "        text-align: left;\n",
       "    }\n",
       "\n",
       "    .dataframe tbody tr th {\n",
       "        vertical-align: top;\n",
       "    }\n",
       "</style>\n",
       "<table border=\"1\" class=\"dataframe\">\n",
       "  <thead>\n",
       "    <tr style=\"text-align: right;\">\n",
       "      <th></th>\n",
       "      <th>is_CHANNEL_B</th>\n",
       "      <th>is_CHANNEL_C</th>\n",
       "      <th>is_CHANNEL_R</th>\n",
       "    </tr>\n",
       "  </thead>\n",
       "  <tbody>\n",
       "    <tr>\n",
       "      <th>0</th>\n",
       "      <td>0</td>\n",
       "      <td>0</td>\n",
       "      <td>1</td>\n",
       "    </tr>\n",
       "    <tr>\n",
       "      <th>1</th>\n",
       "      <td>0</td>\n",
       "      <td>0</td>\n",
       "      <td>1</td>\n",
       "    </tr>\n",
       "    <tr>\n",
       "      <th>2</th>\n",
       "      <td>0</td>\n",
       "      <td>1</td>\n",
       "      <td>0</td>\n",
       "    </tr>\n",
       "    <tr>\n",
       "      <th>3</th>\n",
       "      <td>0</td>\n",
       "      <td>0</td>\n",
       "      <td>1</td>\n",
       "    </tr>\n",
       "    <tr>\n",
       "      <th>4</th>\n",
       "      <td>0</td>\n",
       "      <td>1</td>\n",
       "      <td>0</td>\n",
       "    </tr>\n",
       "  </tbody>\n",
       "</table>\n",
       "</div>"
      ],
      "text/plain": [
       "   is_CHANNEL_B  is_CHANNEL_C  is_CHANNEL_R\n",
       "0             0             0             1\n",
       "1             0             0             1\n",
       "2             0             1             0\n",
       "3             0             0             1\n",
       "4             0             1             0"
      ]
     },
     "execution_count": 64,
     "metadata": {},
     "output_type": "execute_result"
    }
   ],
   "source": [
    "dummies_CHANNEL = pd.get_dummies(df['CHANNEL'])\n",
    "dummies_CHANNEL.columns = ['is_CHANNEL_' + str(col) for col in dummies_CHANNEL.columns]\n",
    "dummies_CHANNEL.head()"
   ]
  },
  {
   "cell_type": "markdown",
   "metadata": {},
   "source": [
    "NUMBER_OF_BORROWERS dummies"
   ]
  },
  {
   "cell_type": "code",
   "execution_count": 65,
   "metadata": {},
   "outputs": [
    {
     "data": {
      "text/plain": [
       "2.0     5310306\n",
       "1.0     4091533\n",
       "3.0       38893\n",
       "4.0       12548\n",
       "5.0         187\n",
       "6.0         155\n",
       "8.0          27\n",
       "7.0          26\n",
       "10.0          9\n",
       "9.0           3\n",
       "Name: NUMBER_OF_BORROWERS, dtype: int64"
      ]
     },
     "execution_count": 65,
     "metadata": {},
     "output_type": "execute_result"
    }
   ],
   "source": [
    "df['NUMBER_OF_BORROWERS'].value_counts(dropna=False)"
   ]
  },
  {
   "cell_type": "markdown",
   "metadata": {},
   "source": []
  },
  {
   "cell_type": "code",
   "execution_count": 66,
   "metadata": {},
   "outputs": [
    {
     "data": {
      "text/html": [
       "<div>\n",
       "<style>\n",
       "    .dataframe thead tr:only-child th {\n",
       "        text-align: right;\n",
       "    }\n",
       "\n",
       "    .dataframe thead th {\n",
       "        text-align: left;\n",
       "    }\n",
       "\n",
       "    .dataframe tbody tr th {\n",
       "        vertical-align: top;\n",
       "    }\n",
       "</style>\n",
       "<table border=\"1\" class=\"dataframe\">\n",
       "  <thead>\n",
       "    <tr style=\"text-align: right;\">\n",
       "      <th></th>\n",
       "      <th>Borrowers_is_1.0</th>\n",
       "      <th>Borrowers_is_2.0</th>\n",
       "      <th>Borrowers_is_3.0</th>\n",
       "      <th>Borrowers_is_4.0</th>\n",
       "      <th>Borrowers_is_5.0</th>\n",
       "      <th>Borrowers_is_6.0</th>\n",
       "      <th>Borrowers_is_7.0</th>\n",
       "      <th>Borrowers_is_8.0</th>\n",
       "      <th>Borrowers_is_9.0</th>\n",
       "      <th>Borrowers_is_10.0</th>\n",
       "    </tr>\n",
       "  </thead>\n",
       "  <tbody>\n",
       "    <tr>\n",
       "      <th>0</th>\n",
       "      <td>0</td>\n",
       "      <td>1</td>\n",
       "      <td>0</td>\n",
       "      <td>0</td>\n",
       "      <td>0</td>\n",
       "      <td>0</td>\n",
       "      <td>0</td>\n",
       "      <td>0</td>\n",
       "      <td>0</td>\n",
       "      <td>0</td>\n",
       "    </tr>\n",
       "    <tr>\n",
       "      <th>1</th>\n",
       "      <td>0</td>\n",
       "      <td>1</td>\n",
       "      <td>0</td>\n",
       "      <td>0</td>\n",
       "      <td>0</td>\n",
       "      <td>0</td>\n",
       "      <td>0</td>\n",
       "      <td>0</td>\n",
       "      <td>0</td>\n",
       "      <td>0</td>\n",
       "    </tr>\n",
       "    <tr>\n",
       "      <th>2</th>\n",
       "      <td>0</td>\n",
       "      <td>1</td>\n",
       "      <td>0</td>\n",
       "      <td>0</td>\n",
       "      <td>0</td>\n",
       "      <td>0</td>\n",
       "      <td>0</td>\n",
       "      <td>0</td>\n",
       "      <td>0</td>\n",
       "      <td>0</td>\n",
       "    </tr>\n",
       "    <tr>\n",
       "      <th>3</th>\n",
       "      <td>1</td>\n",
       "      <td>0</td>\n",
       "      <td>0</td>\n",
       "      <td>0</td>\n",
       "      <td>0</td>\n",
       "      <td>0</td>\n",
       "      <td>0</td>\n",
       "      <td>0</td>\n",
       "      <td>0</td>\n",
       "      <td>0</td>\n",
       "    </tr>\n",
       "    <tr>\n",
       "      <th>4</th>\n",
       "      <td>1</td>\n",
       "      <td>0</td>\n",
       "      <td>0</td>\n",
       "      <td>0</td>\n",
       "      <td>0</td>\n",
       "      <td>0</td>\n",
       "      <td>0</td>\n",
       "      <td>0</td>\n",
       "      <td>0</td>\n",
       "      <td>0</td>\n",
       "    </tr>\n",
       "  </tbody>\n",
       "</table>\n",
       "</div>"
      ],
      "text/plain": [
       "   Borrowers_is_1.0  Borrowers_is_2.0  Borrowers_is_3.0  Borrowers_is_4.0  \\\n",
       "0                 0                 1                 0                 0   \n",
       "1                 0                 1                 0                 0   \n",
       "2                 0                 1                 0                 0   \n",
       "3                 1                 0                 0                 0   \n",
       "4                 1                 0                 0                 0   \n",
       "\n",
       "   Borrowers_is_5.0  Borrowers_is_6.0  Borrowers_is_7.0  Borrowers_is_8.0  \\\n",
       "0                 0                 0                 0                 0   \n",
       "1                 0                 0                 0                 0   \n",
       "2                 0                 0                 0                 0   \n",
       "3                 0                 0                 0                 0   \n",
       "4                 0                 0                 0                 0   \n",
       "\n",
       "   Borrowers_is_9.0  Borrowers_is_10.0  \n",
       "0                 0                  0  \n",
       "1                 0                  0  \n",
       "2                 0                  0  \n",
       "3                 0                  0  \n",
       "4                 0                  0  "
      ]
     },
     "execution_count": 66,
     "metadata": {},
     "output_type": "execute_result"
    }
   ],
   "source": [
    "dummies_BORROWERS = pd.get_dummies(df['NUMBER_OF_BORROWERS'])\n",
    "dummies_BORROWERS.columns = ['Borrowers_is_' + str(col) for col in dummies_BORROWERS.columns]\n",
    "dummies_BORROWERS.head()"
   ]
  },
  {
   "cell_type": "markdown",
   "metadata": {},
   "source": [
    "We include the argument dummy_na=True in the get_dummies() function to get an extra dummy variable for missing values. We add this argument when we do not feel comfortable imputing such missing values. "
   ]
  },
  {
   "cell_type": "code",
   "execution_count": null,
   "metadata": {
    "collapsed": true
   },
   "outputs": [],
   "source": []
  },
  {
   "cell_type": "markdown",
   "metadata": {},
   "source": [
    "YEAR dummies"
   ]
  },
  {
   "cell_type": "code",
   "execution_count": 67,
   "metadata": {},
   "outputs": [
    {
     "data": {
      "text/plain": [
       "2003    1203684\n",
       "2002     956626\n",
       "2001     938165\n",
       "2009     702281\n",
       "2012     682718\n",
       "2013     610515\n",
       "2010     478743\n",
       "2004     476650\n",
       "2008     472374\n",
       "2005     452498\n",
       "2014     436684\n",
       "2000     427822\n",
       "2007     424844\n",
       "2011     401270\n",
       "2015     379995\n",
       "2006     357860\n",
       "1999      50958\n",
       "Name: YEAR, dtype: int64"
      ]
     },
     "execution_count": 67,
     "metadata": {},
     "output_type": "execute_result"
    }
   ],
   "source": [
    "df['YEAR'].value_counts(dropna=False)"
   ]
  },
  {
   "cell_type": "code",
   "execution_count": 68,
   "metadata": {},
   "outputs": [
    {
     "data": {
      "text/html": [
       "<div>\n",
       "<style>\n",
       "    .dataframe thead tr:only-child th {\n",
       "        text-align: right;\n",
       "    }\n",
       "\n",
       "    .dataframe thead th {\n",
       "        text-align: left;\n",
       "    }\n",
       "\n",
       "    .dataframe tbody tr th {\n",
       "        vertical-align: top;\n",
       "    }\n",
       "</style>\n",
       "<table border=\"1\" class=\"dataframe\">\n",
       "  <thead>\n",
       "    <tr style=\"text-align: right;\">\n",
       "      <th></th>\n",
       "      <th>is_YEAR_1999</th>\n",
       "      <th>is_YEAR_2000</th>\n",
       "      <th>is_YEAR_2001</th>\n",
       "      <th>is_YEAR_2002</th>\n",
       "      <th>is_YEAR_2003</th>\n",
       "      <th>is_YEAR_2004</th>\n",
       "      <th>is_YEAR_2005</th>\n",
       "      <th>is_YEAR_2006</th>\n",
       "      <th>is_YEAR_2007</th>\n",
       "      <th>is_YEAR_2008</th>\n",
       "      <th>is_YEAR_2009</th>\n",
       "      <th>is_YEAR_2010</th>\n",
       "      <th>is_YEAR_2011</th>\n",
       "      <th>is_YEAR_2012</th>\n",
       "      <th>is_YEAR_2013</th>\n",
       "      <th>is_YEAR_2014</th>\n",
       "      <th>is_YEAR_2015</th>\n",
       "    </tr>\n",
       "  </thead>\n",
       "  <tbody>\n",
       "    <tr>\n",
       "      <th>0</th>\n",
       "      <td>0</td>\n",
       "      <td>0</td>\n",
       "      <td>0</td>\n",
       "      <td>0</td>\n",
       "      <td>0</td>\n",
       "      <td>0</td>\n",
       "      <td>0</td>\n",
       "      <td>0</td>\n",
       "      <td>0</td>\n",
       "      <td>1</td>\n",
       "      <td>0</td>\n",
       "      <td>0</td>\n",
       "      <td>0</td>\n",
       "      <td>0</td>\n",
       "      <td>0</td>\n",
       "      <td>0</td>\n",
       "      <td>0</td>\n",
       "    </tr>\n",
       "    <tr>\n",
       "      <th>1</th>\n",
       "      <td>0</td>\n",
       "      <td>0</td>\n",
       "      <td>0</td>\n",
       "      <td>0</td>\n",
       "      <td>0</td>\n",
       "      <td>0</td>\n",
       "      <td>0</td>\n",
       "      <td>0</td>\n",
       "      <td>0</td>\n",
       "      <td>0</td>\n",
       "      <td>0</td>\n",
       "      <td>0</td>\n",
       "      <td>0</td>\n",
       "      <td>0</td>\n",
       "      <td>0</td>\n",
       "      <td>0</td>\n",
       "      <td>1</td>\n",
       "    </tr>\n",
       "    <tr>\n",
       "      <th>2</th>\n",
       "      <td>0</td>\n",
       "      <td>0</td>\n",
       "      <td>0</td>\n",
       "      <td>0</td>\n",
       "      <td>0</td>\n",
       "      <td>0</td>\n",
       "      <td>0</td>\n",
       "      <td>0</td>\n",
       "      <td>0</td>\n",
       "      <td>1</td>\n",
       "      <td>0</td>\n",
       "      <td>0</td>\n",
       "      <td>0</td>\n",
       "      <td>0</td>\n",
       "      <td>0</td>\n",
       "      <td>0</td>\n",
       "      <td>0</td>\n",
       "    </tr>\n",
       "    <tr>\n",
       "      <th>3</th>\n",
       "      <td>0</td>\n",
       "      <td>0</td>\n",
       "      <td>0</td>\n",
       "      <td>0</td>\n",
       "      <td>0</td>\n",
       "      <td>0</td>\n",
       "      <td>0</td>\n",
       "      <td>0</td>\n",
       "      <td>0</td>\n",
       "      <td>0</td>\n",
       "      <td>0</td>\n",
       "      <td>0</td>\n",
       "      <td>0</td>\n",
       "      <td>0</td>\n",
       "      <td>0</td>\n",
       "      <td>0</td>\n",
       "      <td>1</td>\n",
       "    </tr>\n",
       "    <tr>\n",
       "      <th>4</th>\n",
       "      <td>0</td>\n",
       "      <td>0</td>\n",
       "      <td>1</td>\n",
       "      <td>0</td>\n",
       "      <td>0</td>\n",
       "      <td>0</td>\n",
       "      <td>0</td>\n",
       "      <td>0</td>\n",
       "      <td>0</td>\n",
       "      <td>0</td>\n",
       "      <td>0</td>\n",
       "      <td>0</td>\n",
       "      <td>0</td>\n",
       "      <td>0</td>\n",
       "      <td>0</td>\n",
       "      <td>0</td>\n",
       "      <td>0</td>\n",
       "    </tr>\n",
       "  </tbody>\n",
       "</table>\n",
       "</div>"
      ],
      "text/plain": [
       "   is_YEAR_1999  is_YEAR_2000  is_YEAR_2001  is_YEAR_2002  is_YEAR_2003  \\\n",
       "0             0             0             0             0             0   \n",
       "1             0             0             0             0             0   \n",
       "2             0             0             0             0             0   \n",
       "3             0             0             0             0             0   \n",
       "4             0             0             1             0             0   \n",
       "\n",
       "   is_YEAR_2004  is_YEAR_2005  is_YEAR_2006  is_YEAR_2007  is_YEAR_2008  \\\n",
       "0             0             0             0             0             1   \n",
       "1             0             0             0             0             0   \n",
       "2             0             0             0             0             1   \n",
       "3             0             0             0             0             0   \n",
       "4             0             0             0             0             0   \n",
       "\n",
       "   is_YEAR_2009  is_YEAR_2010  is_YEAR_2011  is_YEAR_2012  is_YEAR_2013  \\\n",
       "0             0             0             0             0             0   \n",
       "1             0             0             0             0             0   \n",
       "2             0             0             0             0             0   \n",
       "3             0             0             0             0             0   \n",
       "4             0             0             0             0             0   \n",
       "\n",
       "   is_YEAR_2014  is_YEAR_2015  \n",
       "0             0             0  \n",
       "1             0             1  \n",
       "2             0             0  \n",
       "3             0             1  \n",
       "4             0             0  "
      ]
     },
     "execution_count": 68,
     "metadata": {},
     "output_type": "execute_result"
    }
   ],
   "source": [
    "dummies_YEAR = pd.get_dummies(df['YEAR'])\n",
    "dummies_YEAR.columns = ['is_YEAR_' + str(col) for col in dummies_YEAR.columns]\n",
    "dummies_YEAR.head()"
   ]
  },
  {
   "cell_type": "markdown",
   "metadata": {},
   "source": [
    "Make a final data frame with all the dummies included."
   ]
  },
  {
   "cell_type": "code",
   "execution_count": null,
   "metadata": {
    "collapsed": true
   },
   "outputs": [],
   "source": []
  },
  {
   "cell_type": "code",
   "execution_count": 69,
   "metadata": {
    "collapsed": true
   },
   "outputs": [],
   "source": [
    "## Dummies for First time home buyer"
   ]
  },
  {
   "cell_type": "code",
   "execution_count": 70,
   "metadata": {},
   "outputs": [
    {
     "data": {
      "text/plain": [
       "N    8296801\n",
       "Y    1150336\n",
       "U       6550\n",
       "Name: FIRST_TIME_HOME_BUYER_INDICATOR, dtype: int64"
      ]
     },
     "execution_count": 70,
     "metadata": {},
     "output_type": "execute_result"
    }
   ],
   "source": [
    "df['FIRST_TIME_HOME_BUYER_INDICATOR'].value_counts(dropna=False)"
   ]
  },
  {
   "cell_type": "code",
   "execution_count": 71,
   "metadata": {},
   "outputs": [
    {
     "data": {
      "text/html": [
       "<div>\n",
       "<style>\n",
       "    .dataframe thead tr:only-child th {\n",
       "        text-align: right;\n",
       "    }\n",
       "\n",
       "    .dataframe thead th {\n",
       "        text-align: left;\n",
       "    }\n",
       "\n",
       "    .dataframe tbody tr th {\n",
       "        vertical-align: top;\n",
       "    }\n",
       "</style>\n",
       "<table border=\"1\" class=\"dataframe\">\n",
       "  <thead>\n",
       "    <tr style=\"text-align: right;\">\n",
       "      <th></th>\n",
       "      <th>is_FirstHome_N</th>\n",
       "      <th>is_FirstHome_U</th>\n",
       "      <th>is_FirstHome_Y</th>\n",
       "    </tr>\n",
       "  </thead>\n",
       "  <tbody>\n",
       "    <tr>\n",
       "      <th>0</th>\n",
       "      <td>1</td>\n",
       "      <td>0</td>\n",
       "      <td>0</td>\n",
       "    </tr>\n",
       "    <tr>\n",
       "      <th>1</th>\n",
       "      <td>1</td>\n",
       "      <td>0</td>\n",
       "      <td>0</td>\n",
       "    </tr>\n",
       "    <tr>\n",
       "      <th>2</th>\n",
       "      <td>1</td>\n",
       "      <td>0</td>\n",
       "      <td>0</td>\n",
       "    </tr>\n",
       "    <tr>\n",
       "      <th>3</th>\n",
       "      <td>1</td>\n",
       "      <td>0</td>\n",
       "      <td>0</td>\n",
       "    </tr>\n",
       "    <tr>\n",
       "      <th>4</th>\n",
       "      <td>1</td>\n",
       "      <td>0</td>\n",
       "      <td>0</td>\n",
       "    </tr>\n",
       "  </tbody>\n",
       "</table>\n",
       "</div>"
      ],
      "text/plain": [
       "   is_FirstHome_N  is_FirstHome_U  is_FirstHome_Y\n",
       "0               1               0               0\n",
       "1               1               0               0\n",
       "2               1               0               0\n",
       "3               1               0               0\n",
       "4               1               0               0"
      ]
     },
     "execution_count": 71,
     "metadata": {},
     "output_type": "execute_result"
    }
   ],
   "source": [
    "dummies_FIRST_TIME_HOME_BUYER_INDICATOR = pd.get_dummies(df['FIRST_TIME_HOME_BUYER_INDICATOR'])\n",
    "dummies_FIRST_TIME_HOME_BUYER_INDICATOR.columns = ['is_FirstHome_' + str(col) for col in dummies_FIRST_TIME_HOME_BUYER_INDICATOR.columns]\n",
    "dummies_FIRST_TIME_HOME_BUYER_INDICATOR.head()"
   ]
  },
  {
   "cell_type": "code",
   "execution_count": 72,
   "metadata": {
    "collapsed": true
   },
   "outputs": [],
   "source": [
    "#Loan Purpose"
   ]
  },
  {
   "cell_type": "code",
   "execution_count": 73,
   "metadata": {},
   "outputs": [
    {
     "data": {
      "text/plain": [
       "P    4005164\n",
       "R    2895660\n",
       "C    2549078\n",
       "U       3785\n",
       "Name: LOAN_PURPOSE, dtype: int64"
      ]
     },
     "execution_count": 73,
     "metadata": {},
     "output_type": "execute_result"
    }
   ],
   "source": [
    "df['LOAN_PURPOSE'].value_counts(dropna=False)"
   ]
  },
  {
   "cell_type": "code",
   "execution_count": 74,
   "metadata": {},
   "outputs": [
    {
     "data": {
      "text/html": [
       "<div>\n",
       "<style>\n",
       "    .dataframe thead tr:only-child th {\n",
       "        text-align: right;\n",
       "    }\n",
       "\n",
       "    .dataframe thead th {\n",
       "        text-align: left;\n",
       "    }\n",
       "\n",
       "    .dataframe tbody tr th {\n",
       "        vertical-align: top;\n",
       "    }\n",
       "</style>\n",
       "<table border=\"1\" class=\"dataframe\">\n",
       "  <thead>\n",
       "    <tr style=\"text-align: right;\">\n",
       "      <th></th>\n",
       "      <th>Loan_Purpose_C</th>\n",
       "      <th>Loan_Purpose_P</th>\n",
       "      <th>Loan_Purpose_R</th>\n",
       "      <th>Loan_Purpose_U</th>\n",
       "    </tr>\n",
       "  </thead>\n",
       "  <tbody>\n",
       "    <tr>\n",
       "      <th>0</th>\n",
       "      <td>0</td>\n",
       "      <td>1</td>\n",
       "      <td>0</td>\n",
       "      <td>0</td>\n",
       "    </tr>\n",
       "    <tr>\n",
       "      <th>1</th>\n",
       "      <td>0</td>\n",
       "      <td>0</td>\n",
       "      <td>1</td>\n",
       "      <td>0</td>\n",
       "    </tr>\n",
       "    <tr>\n",
       "      <th>2</th>\n",
       "      <td>0</td>\n",
       "      <td>1</td>\n",
       "      <td>0</td>\n",
       "      <td>0</td>\n",
       "    </tr>\n",
       "    <tr>\n",
       "      <th>3</th>\n",
       "      <td>1</td>\n",
       "      <td>0</td>\n",
       "      <td>0</td>\n",
       "      <td>0</td>\n",
       "    </tr>\n",
       "    <tr>\n",
       "      <th>4</th>\n",
       "      <td>1</td>\n",
       "      <td>0</td>\n",
       "      <td>0</td>\n",
       "      <td>0</td>\n",
       "    </tr>\n",
       "  </tbody>\n",
       "</table>\n",
       "</div>"
      ],
      "text/plain": [
       "   Loan_Purpose_C  Loan_Purpose_P  Loan_Purpose_R  Loan_Purpose_U\n",
       "0               0               1               0               0\n",
       "1               0               0               1               0\n",
       "2               0               1               0               0\n",
       "3               1               0               0               0\n",
       "4               1               0               0               0"
      ]
     },
     "execution_count": 74,
     "metadata": {},
     "output_type": "execute_result"
    }
   ],
   "source": [
    "dummies_LOAN_PURPOSE = pd.get_dummies(df['LOAN_PURPOSE'])\n",
    "dummies_LOAN_PURPOSE.columns = ['Loan_Purpose_' + str(col) for col in dummies_LOAN_PURPOSE.columns]\n",
    "dummies_LOAN_PURPOSE.head()"
   ]
  },
  {
   "cell_type": "code",
   "execution_count": 75,
   "metadata": {
    "collapsed": true
   },
   "outputs": [],
   "source": [
    "# Number of Units"
   ]
  },
  {
   "cell_type": "code",
   "execution_count": 76,
   "metadata": {},
   "outputs": [
    {
     "data": {
      "text/plain": [
       "1    9195759\n",
       "2     189864\n",
       "3      35366\n",
       "4      32698\n",
       "Name: NUMBER_OF_UNITS, dtype: int64"
      ]
     },
     "execution_count": 76,
     "metadata": {},
     "output_type": "execute_result"
    }
   ],
   "source": [
    "df['NUMBER_OF_UNITS'].value_counts(dropna=False)"
   ]
  },
  {
   "cell_type": "code",
   "execution_count": 77,
   "metadata": {},
   "outputs": [
    {
     "data": {
      "text/html": [
       "<div>\n",
       "<style>\n",
       "    .dataframe thead tr:only-child th {\n",
       "        text-align: right;\n",
       "    }\n",
       "\n",
       "    .dataframe thead th {\n",
       "        text-align: left;\n",
       "    }\n",
       "\n",
       "    .dataframe tbody tr th {\n",
       "        vertical-align: top;\n",
       "    }\n",
       "</style>\n",
       "<table border=\"1\" class=\"dataframe\">\n",
       "  <thead>\n",
       "    <tr style=\"text-align: right;\">\n",
       "      <th></th>\n",
       "      <th>Units_Number_1</th>\n",
       "      <th>Units_Number_2</th>\n",
       "      <th>Units_Number_3</th>\n",
       "      <th>Units_Number_4</th>\n",
       "    </tr>\n",
       "  </thead>\n",
       "  <tbody>\n",
       "    <tr>\n",
       "      <th>0</th>\n",
       "      <td>1</td>\n",
       "      <td>0</td>\n",
       "      <td>0</td>\n",
       "      <td>0</td>\n",
       "    </tr>\n",
       "    <tr>\n",
       "      <th>1</th>\n",
       "      <td>1</td>\n",
       "      <td>0</td>\n",
       "      <td>0</td>\n",
       "      <td>0</td>\n",
       "    </tr>\n",
       "    <tr>\n",
       "      <th>2</th>\n",
       "      <td>1</td>\n",
       "      <td>0</td>\n",
       "      <td>0</td>\n",
       "      <td>0</td>\n",
       "    </tr>\n",
       "    <tr>\n",
       "      <th>3</th>\n",
       "      <td>1</td>\n",
       "      <td>0</td>\n",
       "      <td>0</td>\n",
       "      <td>0</td>\n",
       "    </tr>\n",
       "    <tr>\n",
       "      <th>4</th>\n",
       "      <td>0</td>\n",
       "      <td>1</td>\n",
       "      <td>0</td>\n",
       "      <td>0</td>\n",
       "    </tr>\n",
       "  </tbody>\n",
       "</table>\n",
       "</div>"
      ],
      "text/plain": [
       "   Units_Number_1  Units_Number_2  Units_Number_3  Units_Number_4\n",
       "0               1               0               0               0\n",
       "1               1               0               0               0\n",
       "2               1               0               0               0\n",
       "3               1               0               0               0\n",
       "4               0               1               0               0"
      ]
     },
     "execution_count": 77,
     "metadata": {},
     "output_type": "execute_result"
    }
   ],
   "source": [
    "dummies_NUMBER_OF_UNITS = pd.get_dummies(df['NUMBER_OF_UNITS'])\n",
    "dummies_NUMBER_OF_UNITS.columns = ['Units_Number_' + str(col) for col in dummies_NUMBER_OF_UNITS.columns]\n",
    "dummies_NUMBER_OF_UNITS.head()"
   ]
  },
  {
   "cell_type": "code",
   "execution_count": 78,
   "metadata": {
    "collapsed": true
   },
   "outputs": [],
   "source": [
    "#Occupancy Status"
   ]
  },
  {
   "cell_type": "code",
   "execution_count": 79,
   "metadata": {},
   "outputs": [
    {
     "data": {
      "text/plain": [
       "P    8366280\n",
       "I     686957\n",
       "S     400450\n",
       "Name: OCCUPANCY_STATUS, dtype: int64"
      ]
     },
     "execution_count": 79,
     "metadata": {},
     "output_type": "execute_result"
    }
   ],
   "source": [
    "df['OCCUPANCY_STATUS'].value_counts(dropna=False)"
   ]
  },
  {
   "cell_type": "code",
   "execution_count": 80,
   "metadata": {},
   "outputs": [
    {
     "data": {
      "text/html": [
       "<div>\n",
       "<style>\n",
       "    .dataframe thead tr:only-child th {\n",
       "        text-align: right;\n",
       "    }\n",
       "\n",
       "    .dataframe thead th {\n",
       "        text-align: left;\n",
       "    }\n",
       "\n",
       "    .dataframe tbody tr th {\n",
       "        vertical-align: top;\n",
       "    }\n",
       "</style>\n",
       "<table border=\"1\" class=\"dataframe\">\n",
       "  <thead>\n",
       "    <tr style=\"text-align: right;\">\n",
       "      <th></th>\n",
       "      <th>OCCUPANCY_STATUS_I</th>\n",
       "      <th>OCCUPANCY_STATUS_P</th>\n",
       "      <th>OCCUPANCY_STATUS_S</th>\n",
       "    </tr>\n",
       "  </thead>\n",
       "  <tbody>\n",
       "    <tr>\n",
       "      <th>0</th>\n",
       "      <td>1</td>\n",
       "      <td>0</td>\n",
       "      <td>0</td>\n",
       "    </tr>\n",
       "    <tr>\n",
       "      <th>1</th>\n",
       "      <td>0</td>\n",
       "      <td>1</td>\n",
       "      <td>0</td>\n",
       "    </tr>\n",
       "    <tr>\n",
       "      <th>2</th>\n",
       "      <td>0</td>\n",
       "      <td>1</td>\n",
       "      <td>0</td>\n",
       "    </tr>\n",
       "    <tr>\n",
       "      <th>3</th>\n",
       "      <td>0</td>\n",
       "      <td>1</td>\n",
       "      <td>0</td>\n",
       "    </tr>\n",
       "    <tr>\n",
       "      <th>4</th>\n",
       "      <td>0</td>\n",
       "      <td>1</td>\n",
       "      <td>0</td>\n",
       "    </tr>\n",
       "  </tbody>\n",
       "</table>\n",
       "</div>"
      ],
      "text/plain": [
       "   OCCUPANCY_STATUS_I  OCCUPANCY_STATUS_P  OCCUPANCY_STATUS_S\n",
       "0                   1                   0                   0\n",
       "1                   0                   1                   0\n",
       "2                   0                   1                   0\n",
       "3                   0                   1                   0\n",
       "4                   0                   1                   0"
      ]
     },
     "execution_count": 80,
     "metadata": {},
     "output_type": "execute_result"
    }
   ],
   "source": [
    "dummies_OCCUPANCY_STATUS = pd.get_dummies(df['OCCUPANCY_STATUS'])\n",
    "dummies_OCCUPANCY_STATUS.columns = ['OCCUPANCY_STATUS_' + str(col) for col in dummies_OCCUPANCY_STATUS.columns]\n",
    "dummies_OCCUPANCY_STATUS.head()"
   ]
  },
  {
   "cell_type": "code",
   "execution_count": 81,
   "metadata": {
    "collapsed": true
   },
   "outputs": [],
   "source": [
    "#PROPERTY_TYPE "
   ]
  },
  {
   "cell_type": "code",
   "execution_count": 82,
   "metadata": {},
   "outputs": [
    {
     "data": {
      "text/plain": [
       "SF    6967045\n",
       "PU    1563115\n",
       "CO     817478\n",
       "CP      53259\n",
       "MH      52790\n",
       "Name: PROPERTY_TYPE, dtype: int64"
      ]
     },
     "execution_count": 82,
     "metadata": {},
     "output_type": "execute_result"
    }
   ],
   "source": [
    "df['PROPERTY_TYPE'].value_counts(dropna=False)"
   ]
  },
  {
   "cell_type": "code",
   "execution_count": 83,
   "metadata": {},
   "outputs": [
    {
     "data": {
      "text/html": [
       "<div>\n",
       "<style>\n",
       "    .dataframe thead tr:only-child th {\n",
       "        text-align: right;\n",
       "    }\n",
       "\n",
       "    .dataframe thead th {\n",
       "        text-align: left;\n",
       "    }\n",
       "\n",
       "    .dataframe tbody tr th {\n",
       "        vertical-align: top;\n",
       "    }\n",
       "</style>\n",
       "<table border=\"1\" class=\"dataframe\">\n",
       "  <thead>\n",
       "    <tr style=\"text-align: right;\">\n",
       "      <th></th>\n",
       "      <th>PROPERTY_TYPE_CO</th>\n",
       "      <th>PROPERTY_TYPE_CP</th>\n",
       "      <th>PROPERTY_TYPE_MH</th>\n",
       "      <th>PROPERTY_TYPE_PU</th>\n",
       "      <th>PROPERTY_TYPE_SF</th>\n",
       "    </tr>\n",
       "  </thead>\n",
       "  <tbody>\n",
       "    <tr>\n",
       "      <th>0</th>\n",
       "      <td>0</td>\n",
       "      <td>0</td>\n",
       "      <td>0</td>\n",
       "      <td>0</td>\n",
       "      <td>1</td>\n",
       "    </tr>\n",
       "    <tr>\n",
       "      <th>1</th>\n",
       "      <td>0</td>\n",
       "      <td>0</td>\n",
       "      <td>0</td>\n",
       "      <td>0</td>\n",
       "      <td>1</td>\n",
       "    </tr>\n",
       "    <tr>\n",
       "      <th>2</th>\n",
       "      <td>0</td>\n",
       "      <td>0</td>\n",
       "      <td>0</td>\n",
       "      <td>0</td>\n",
       "      <td>1</td>\n",
       "    </tr>\n",
       "    <tr>\n",
       "      <th>3</th>\n",
       "      <td>0</td>\n",
       "      <td>0</td>\n",
       "      <td>0</td>\n",
       "      <td>1</td>\n",
       "      <td>0</td>\n",
       "    </tr>\n",
       "    <tr>\n",
       "      <th>4</th>\n",
       "      <td>0</td>\n",
       "      <td>0</td>\n",
       "      <td>0</td>\n",
       "      <td>0</td>\n",
       "      <td>1</td>\n",
       "    </tr>\n",
       "  </tbody>\n",
       "</table>\n",
       "</div>"
      ],
      "text/plain": [
       "   PROPERTY_TYPE_CO  PROPERTY_TYPE_CP  PROPERTY_TYPE_MH  PROPERTY_TYPE_PU  \\\n",
       "0                 0                 0                 0                 0   \n",
       "1                 0                 0                 0                 0   \n",
       "2                 0                 0                 0                 0   \n",
       "3                 0                 0                 0                 1   \n",
       "4                 0                 0                 0                 0   \n",
       "\n",
       "   PROPERTY_TYPE_SF  \n",
       "0                 1  \n",
       "1                 1  \n",
       "2                 1  \n",
       "3                 0  \n",
       "4                 1  "
      ]
     },
     "execution_count": 83,
     "metadata": {},
     "output_type": "execute_result"
    }
   ],
   "source": [
    "dummies_PROPERTY_TYPE = pd.get_dummies(df['PROPERTY_TYPE'])\n",
    "dummies_PROPERTY_TYPE.columns = ['PROPERTY_TYPE_' + str(col) for col in dummies_PROPERTY_TYPE.columns]\n",
    "dummies_PROPERTY_TYPE.head()"
   ]
  },
  {
   "cell_type": "code",
   "execution_count": 84,
   "metadata": {
    "collapsed": true
   },
   "outputs": [],
   "source": [
    "#ORIGINATION_MONTH"
   ]
  },
  {
   "cell_type": "code",
   "execution_count": 85,
   "metadata": {
    "collapsed": true
   },
   "outputs": [],
   "source": [
    "df['MONTH'] = df['ORIGINATION_DATE'].astype(str).str[0:2]"
   ]
  },
  {
   "cell_type": "code",
   "execution_count": 86,
   "metadata": {},
   "outputs": [
    {
     "data": {
      "text/plain": [
       "06    856494\n",
       "05    835409\n",
       "04    833565\n",
       "03    833492\n",
       "08    829814\n",
       "07    825885\n",
       "10    782760\n",
       "12    777260\n",
       "11    747508\n",
       "02    719323\n",
       "09    716551\n",
       "01    695626\n",
       "Name: MONTH, dtype: int64"
      ]
     },
     "execution_count": 86,
     "metadata": {},
     "output_type": "execute_result"
    }
   ],
   "source": [
    "df['MONTH'].value_counts(dropna=False)"
   ]
  },
  {
   "cell_type": "code",
   "execution_count": 87,
   "metadata": {},
   "outputs": [
    {
     "data": {
      "text/html": [
       "<div>\n",
       "<style>\n",
       "    .dataframe thead tr:only-child th {\n",
       "        text-align: right;\n",
       "    }\n",
       "\n",
       "    .dataframe thead th {\n",
       "        text-align: left;\n",
       "    }\n",
       "\n",
       "    .dataframe tbody tr th {\n",
       "        vertical-align: top;\n",
       "    }\n",
       "</style>\n",
       "<table border=\"1\" class=\"dataframe\">\n",
       "  <thead>\n",
       "    <tr style=\"text-align: right;\">\n",
       "      <th></th>\n",
       "      <th>MONTH_01</th>\n",
       "      <th>MONTH_02</th>\n",
       "      <th>MONTH_03</th>\n",
       "      <th>MONTH_04</th>\n",
       "      <th>MONTH_05</th>\n",
       "      <th>MONTH_06</th>\n",
       "      <th>MONTH_07</th>\n",
       "      <th>MONTH_08</th>\n",
       "      <th>MONTH_09</th>\n",
       "      <th>MONTH_10</th>\n",
       "      <th>MONTH_11</th>\n",
       "      <th>MONTH_12</th>\n",
       "    </tr>\n",
       "  </thead>\n",
       "  <tbody>\n",
       "    <tr>\n",
       "      <th>0</th>\n",
       "      <td>0</td>\n",
       "      <td>0</td>\n",
       "      <td>0</td>\n",
       "      <td>0</td>\n",
       "      <td>0</td>\n",
       "      <td>0</td>\n",
       "      <td>0</td>\n",
       "      <td>0</td>\n",
       "      <td>0</td>\n",
       "      <td>1</td>\n",
       "      <td>0</td>\n",
       "      <td>0</td>\n",
       "    </tr>\n",
       "    <tr>\n",
       "      <th>1</th>\n",
       "      <td>0</td>\n",
       "      <td>0</td>\n",
       "      <td>0</td>\n",
       "      <td>0</td>\n",
       "      <td>0</td>\n",
       "      <td>1</td>\n",
       "      <td>0</td>\n",
       "      <td>0</td>\n",
       "      <td>0</td>\n",
       "      <td>0</td>\n",
       "      <td>0</td>\n",
       "      <td>0</td>\n",
       "    </tr>\n",
       "    <tr>\n",
       "      <th>2</th>\n",
       "      <td>0</td>\n",
       "      <td>0</td>\n",
       "      <td>0</td>\n",
       "      <td>0</td>\n",
       "      <td>0</td>\n",
       "      <td>0</td>\n",
       "      <td>0</td>\n",
       "      <td>1</td>\n",
       "      <td>0</td>\n",
       "      <td>0</td>\n",
       "      <td>0</td>\n",
       "      <td>0</td>\n",
       "    </tr>\n",
       "    <tr>\n",
       "      <th>3</th>\n",
       "      <td>0</td>\n",
       "      <td>0</td>\n",
       "      <td>1</td>\n",
       "      <td>0</td>\n",
       "      <td>0</td>\n",
       "      <td>0</td>\n",
       "      <td>0</td>\n",
       "      <td>0</td>\n",
       "      <td>0</td>\n",
       "      <td>0</td>\n",
       "      <td>0</td>\n",
       "      <td>0</td>\n",
       "    </tr>\n",
       "    <tr>\n",
       "      <th>4</th>\n",
       "      <td>0</td>\n",
       "      <td>0</td>\n",
       "      <td>1</td>\n",
       "      <td>0</td>\n",
       "      <td>0</td>\n",
       "      <td>0</td>\n",
       "      <td>0</td>\n",
       "      <td>0</td>\n",
       "      <td>0</td>\n",
       "      <td>0</td>\n",
       "      <td>0</td>\n",
       "      <td>0</td>\n",
       "    </tr>\n",
       "  </tbody>\n",
       "</table>\n",
       "</div>"
      ],
      "text/plain": [
       "   MONTH_01  MONTH_02  MONTH_03  MONTH_04  MONTH_05  MONTH_06  MONTH_07  \\\n",
       "0         0         0         0         0         0         0         0   \n",
       "1         0         0         0         0         0         1         0   \n",
       "2         0         0         0         0         0         0         0   \n",
       "3         0         0         1         0         0         0         0   \n",
       "4         0         0         1         0         0         0         0   \n",
       "\n",
       "   MONTH_08  MONTH_09  MONTH_10  MONTH_11  MONTH_12  \n",
       "0         0         0         1         0         0  \n",
       "1         0         0         0         0         0  \n",
       "2         1         0         0         0         0  \n",
       "3         0         0         0         0         0  \n",
       "4         0         0         0         0         0  "
      ]
     },
     "execution_count": 87,
     "metadata": {},
     "output_type": "execute_result"
    }
   ],
   "source": [
    "dummies_MONTH = pd.get_dummies(df['MONTH'])\n",
    "dummies_MONTH.columns = ['MONTH_' + str(col) for col in dummies_MONTH.columns]\n",
    "dummies_MONTH.head()"
   ]
  },
  {
   "cell_type": "code",
   "execution_count": 88,
   "metadata": {},
   "outputs": [
    {
     "data": {
      "text/plain": [
       "0    10\n",
       "1    06\n",
       "2    08\n",
       "3    03\n",
       "4    03\n",
       "Name: MONTH, dtype: object"
      ]
     },
     "execution_count": 88,
     "metadata": {},
     "output_type": "execute_result"
    }
   ],
   "source": [
    "df['MONTH'].head()"
   ]
  },
  {
   "cell_type": "code",
   "execution_count": 89,
   "metadata": {
    "collapsed": true
   },
   "outputs": [],
   "source": [
    "#Seller Name"
   ]
  },
  {
   "cell_type": "code",
   "execution_count": 90,
   "metadata": {},
   "outputs": [
    {
     "data": {
      "text/plain": [
       "OTHER                                                         2865981\n",
       "BANK OF AMERICA, N.A.                                         1371176\n",
       "WELLS FARGO BANK, N.A.                                        1053707\n",
       "JPMORGAN CHASE BANK, NA                                        731270\n",
       "JPMORGAN CHASE BANK, NATIONAL ASSOCIATION                      586593\n",
       "CITIMORTGAGE, INC.                                             460727\n",
       "GMAC MORTGAGE, LLC                                             358957\n",
       "SUNTRUST MORTGAGE INC.                                         252811\n",
       "FLAGSTAR BANK, FSB                                             241760\n",
       "AMTRUST BANK                                                   167047\n",
       "FLAGSTAR CAPITAL MARKETS CORPORATION                           135440\n",
       "FIRST TENNESSEE BANK NATIONAL ASSOCIATION                      131214\n",
       "BISHOPS GATE RESIDENTIAL MORTGAGE TRUST                        107433\n",
       "QUICKEN LOANS INC.                                              92907\n",
       "REGIONS BANK                                                    78275\n",
       "WITMER FUNDING, LLC                                             75455\n",
       "PNC BANK, N.A.                                                  71775\n",
       "PHH MORTGAGE CORPORATION                                        66246\n",
       "RBC MORTGAGE COMPANY                                            50884\n",
       "IRWIN MORTGAGE, CORPORATION                                     49411\n",
       "FRANKLIN AMERICAN MORTGAGE COMPANY                              40795\n",
       "FLEET NATIONAL BANK                                             38756\n",
       "NETBANK FUNDING SERVICES                                        34873\n",
       "HARWOOD STREET FUNDING I, LLC                                   33305\n",
       "PENNYMAC CORP.                                                  32359\n",
       "STEARNS LENDING, LLC                                            27380\n",
       "DITECH FINANCIAL LLC                                            23900\n",
       "USAA FEDERAL SAVINGS BANK                                       19892\n",
       "U.S. BANK N.A.                                                  19510\n",
       "NATIONSTAR MORTGAGE, LLC                                        18061\n",
       "                                                               ...   \n",
       "HOMEBRIDGE FINANCIAL SERVICES, INC.                              5947\n",
       "NEW YORK COMMUNITY BANK                                          5939\n",
       "LOANDEPOT.COM, LLC                                               5925\n",
       "STONEGATE MORTGAGE CORPORATION                                   4865\n",
       "CASHCALL, INC.                                                   4622\n",
       "GMAC MORTGAGE, LLC (USAA FEDERAL SAVINGS BANK)                   4383\n",
       "CAPITAL ONE, NATIONAL ASSOCIATION                                3976\n",
       "METLIFE BANK, NA                                                 3715\n",
       "ACADEMY MORTGAGE CORPORATION                                     3241\n",
       "J.P. MORGAN MADISON AVENUE SECURITIES TRUST, SERIES 2015-1       2961\n",
       "FEDERAL HOME LOAN BANK OF CHICAGO                                2729\n",
       "SIERRA PACIFIC MORTGAGE COMPANY, INC.                            2721\n",
       "IMPAC MORTGAGE CORP.                                             2502\n",
       "WELLS FARGO BANK,  NA                                            2170\n",
       "GUILD MORTGAGE COMPANY                                           2133\n",
       "CHASE HOME FINANCE (CIE 1)                                       2059\n",
       "AMERISAVE MORTGAGE CORPORATION                                   2018\n",
       "DOWNEY SAVINGS AND LOAN ASSOCIATION, F.A.                        1983\n",
       "PROSPECT MORTGAGE, LLC                                           1940\n",
       "PULTE MORTGAGE, L.L.C.                                           1885\n",
       "CHASE HOME FINANCE FRANKLIN AMERICAN MORTGAGE COMPANY            1876\n",
       "CHICAGO MORTGAGE SOLUTIONS DBA INTERBANK MORTGAGE COMPANY        1769\n",
       "PMT CREDIT RISK TRANSFER TRUST 2015-2                            1701\n",
       "FIFTH THIRD BANK                                                 1604\n",
       "CALIBER HOME LOANS, INC.                                         1596\n",
       "J.P. MORGAN MADISON AVENUE SECURITIES TRUST, SERIES 2014-1       1499\n",
       "CHICAGO MORTGAGE SOLUTIONS DBA INTERFIRST MORTGAGE COMPANY       1437\n",
       "AMERIHOME MORTGAGE COMPANY, LLC                                  1426\n",
       "FREMONT BANK                                                     1245\n",
       "PACIFIC UNION FINANCIAL, LLC                                      903\n",
       "Name: SELLER_NAME, Length: 72, dtype: int64"
      ]
     },
     "execution_count": 90,
     "metadata": {},
     "output_type": "execute_result"
    }
   ],
   "source": [
    "df['SELLER_NAME'].value_counts(dropna=False)"
   ]
  },
  {
   "cell_type": "code",
   "execution_count": 91,
   "metadata": {},
   "outputs": [
    {
     "data": {
      "text/html": [
       "<div>\n",
       "<style>\n",
       "    .dataframe thead tr:only-child th {\n",
       "        text-align: right;\n",
       "    }\n",
       "\n",
       "    .dataframe thead th {\n",
       "        text-align: left;\n",
       "    }\n",
       "\n",
       "    .dataframe tbody tr th {\n",
       "        vertical-align: top;\n",
       "    }\n",
       "</style>\n",
       "<table border=\"1\" class=\"dataframe\">\n",
       "  <thead>\n",
       "    <tr style=\"text-align: right;\">\n",
       "      <th></th>\n",
       "      <th>SELLER_ACADEMY MORTGAGE CORPORATION</th>\n",
       "      <th>SELLER_ALLY BANK</th>\n",
       "      <th>SELLER_AMERIHOME MORTGAGE COMPANY, LLC</th>\n",
       "      <th>SELLER_AMERISAVE MORTGAGE CORPORATION</th>\n",
       "      <th>SELLER_AMTRUST BANK</th>\n",
       "      <th>SELLER_BANK OF AMERICA, N.A.</th>\n",
       "      <th>SELLER_BISHOPS GATE RESIDENTIAL MORTGAGE TRUST</th>\n",
       "      <th>SELLER_CALIBER HOME LOANS, INC.</th>\n",
       "      <th>SELLER_CAPITAL ONE, NATIONAL ASSOCIATION</th>\n",
       "      <th>SELLER_CASHCALL, INC.</th>\n",
       "      <th>...</th>\n",
       "      <th>SELLER_SIERRA PACIFIC MORTGAGE COMPANY, INC.</th>\n",
       "      <th>SELLER_STEARNS LENDING, LLC</th>\n",
       "      <th>SELLER_STONEGATE MORTGAGE CORPORATION</th>\n",
       "      <th>SELLER_SUNTRUST MORTGAGE INC.</th>\n",
       "      <th>SELLER_U.S. BANK N.A.</th>\n",
       "      <th>SELLER_UNITED SHORE FINANCIAL SERVICES, LLC D/B/A UNITED WHOLESALE MORTGAGE</th>\n",
       "      <th>SELLER_USAA FEDERAL SAVINGS BANK</th>\n",
       "      <th>SELLER_WELLS FARGO BANK,  NA</th>\n",
       "      <th>SELLER_WELLS FARGO BANK, N.A.</th>\n",
       "      <th>SELLER_WITMER FUNDING, LLC</th>\n",
       "    </tr>\n",
       "  </thead>\n",
       "  <tbody>\n",
       "    <tr>\n",
       "      <th>0</th>\n",
       "      <td>0</td>\n",
       "      <td>0</td>\n",
       "      <td>0</td>\n",
       "      <td>0</td>\n",
       "      <td>0</td>\n",
       "      <td>1</td>\n",
       "      <td>0</td>\n",
       "      <td>0</td>\n",
       "      <td>0</td>\n",
       "      <td>0</td>\n",
       "      <td>...</td>\n",
       "      <td>0</td>\n",
       "      <td>0</td>\n",
       "      <td>0</td>\n",
       "      <td>0</td>\n",
       "      <td>0</td>\n",
       "      <td>0</td>\n",
       "      <td>0</td>\n",
       "      <td>0</td>\n",
       "      <td>0</td>\n",
       "      <td>0</td>\n",
       "    </tr>\n",
       "    <tr>\n",
       "      <th>1</th>\n",
       "      <td>0</td>\n",
       "      <td>0</td>\n",
       "      <td>0</td>\n",
       "      <td>0</td>\n",
       "      <td>0</td>\n",
       "      <td>0</td>\n",
       "      <td>0</td>\n",
       "      <td>0</td>\n",
       "      <td>0</td>\n",
       "      <td>0</td>\n",
       "      <td>...</td>\n",
       "      <td>0</td>\n",
       "      <td>0</td>\n",
       "      <td>0</td>\n",
       "      <td>0</td>\n",
       "      <td>0</td>\n",
       "      <td>0</td>\n",
       "      <td>0</td>\n",
       "      <td>0</td>\n",
       "      <td>0</td>\n",
       "      <td>0</td>\n",
       "    </tr>\n",
       "    <tr>\n",
       "      <th>2</th>\n",
       "      <td>0</td>\n",
       "      <td>0</td>\n",
       "      <td>0</td>\n",
       "      <td>0</td>\n",
       "      <td>0</td>\n",
       "      <td>0</td>\n",
       "      <td>0</td>\n",
       "      <td>0</td>\n",
       "      <td>0</td>\n",
       "      <td>0</td>\n",
       "      <td>...</td>\n",
       "      <td>0</td>\n",
       "      <td>0</td>\n",
       "      <td>0</td>\n",
       "      <td>0</td>\n",
       "      <td>0</td>\n",
       "      <td>0</td>\n",
       "      <td>0</td>\n",
       "      <td>0</td>\n",
       "      <td>0</td>\n",
       "      <td>0</td>\n",
       "    </tr>\n",
       "    <tr>\n",
       "      <th>3</th>\n",
       "      <td>0</td>\n",
       "      <td>0</td>\n",
       "      <td>0</td>\n",
       "      <td>0</td>\n",
       "      <td>0</td>\n",
       "      <td>0</td>\n",
       "      <td>0</td>\n",
       "      <td>0</td>\n",
       "      <td>0</td>\n",
       "      <td>0</td>\n",
       "      <td>...</td>\n",
       "      <td>0</td>\n",
       "      <td>0</td>\n",
       "      <td>0</td>\n",
       "      <td>0</td>\n",
       "      <td>0</td>\n",
       "      <td>0</td>\n",
       "      <td>0</td>\n",
       "      <td>0</td>\n",
       "      <td>0</td>\n",
       "      <td>0</td>\n",
       "    </tr>\n",
       "    <tr>\n",
       "      <th>4</th>\n",
       "      <td>0</td>\n",
       "      <td>0</td>\n",
       "      <td>0</td>\n",
       "      <td>0</td>\n",
       "      <td>1</td>\n",
       "      <td>0</td>\n",
       "      <td>0</td>\n",
       "      <td>0</td>\n",
       "      <td>0</td>\n",
       "      <td>0</td>\n",
       "      <td>...</td>\n",
       "      <td>0</td>\n",
       "      <td>0</td>\n",
       "      <td>0</td>\n",
       "      <td>0</td>\n",
       "      <td>0</td>\n",
       "      <td>0</td>\n",
       "      <td>0</td>\n",
       "      <td>0</td>\n",
       "      <td>0</td>\n",
       "      <td>0</td>\n",
       "    </tr>\n",
       "  </tbody>\n",
       "</table>\n",
       "<p>5 rows × 72 columns</p>\n",
       "</div>"
      ],
      "text/plain": [
       "   SELLER_ACADEMY MORTGAGE CORPORATION  SELLER_ALLY BANK  \\\n",
       "0                                    0                 0   \n",
       "1                                    0                 0   \n",
       "2                                    0                 0   \n",
       "3                                    0                 0   \n",
       "4                                    0                 0   \n",
       "\n",
       "   SELLER_AMERIHOME MORTGAGE COMPANY, LLC  \\\n",
       "0                                       0   \n",
       "1                                       0   \n",
       "2                                       0   \n",
       "3                                       0   \n",
       "4                                       0   \n",
       "\n",
       "   SELLER_AMERISAVE MORTGAGE CORPORATION  SELLER_AMTRUST BANK  \\\n",
       "0                                      0                    0   \n",
       "1                                      0                    0   \n",
       "2                                      0                    0   \n",
       "3                                      0                    0   \n",
       "4                                      0                    1   \n",
       "\n",
       "   SELLER_BANK OF AMERICA, N.A.  \\\n",
       "0                             1   \n",
       "1                             0   \n",
       "2                             0   \n",
       "3                             0   \n",
       "4                             0   \n",
       "\n",
       "   SELLER_BISHOPS GATE RESIDENTIAL MORTGAGE TRUST  \\\n",
       "0                                               0   \n",
       "1                                               0   \n",
       "2                                               0   \n",
       "3                                               0   \n",
       "4                                               0   \n",
       "\n",
       "   SELLER_CALIBER HOME LOANS, INC.  SELLER_CAPITAL ONE, NATIONAL ASSOCIATION  \\\n",
       "0                                0                                         0   \n",
       "1                                0                                         0   \n",
       "2                                0                                         0   \n",
       "3                                0                                         0   \n",
       "4                                0                                         0   \n",
       "\n",
       "   SELLER_CASHCALL, INC.             ...              \\\n",
       "0                      0             ...               \n",
       "1                      0             ...               \n",
       "2                      0             ...               \n",
       "3                      0             ...               \n",
       "4                      0             ...               \n",
       "\n",
       "   SELLER_SIERRA PACIFIC MORTGAGE COMPANY, INC.  SELLER_STEARNS LENDING, LLC  \\\n",
       "0                                             0                            0   \n",
       "1                                             0                            0   \n",
       "2                                             0                            0   \n",
       "3                                             0                            0   \n",
       "4                                             0                            0   \n",
       "\n",
       "   SELLER_STONEGATE MORTGAGE CORPORATION  SELLER_SUNTRUST MORTGAGE INC.  \\\n",
       "0                                      0                              0   \n",
       "1                                      0                              0   \n",
       "2                                      0                              0   \n",
       "3                                      0                              0   \n",
       "4                                      0                              0   \n",
       "\n",
       "   SELLER_U.S. BANK N.A.  \\\n",
       "0                      0   \n",
       "1                      0   \n",
       "2                      0   \n",
       "3                      0   \n",
       "4                      0   \n",
       "\n",
       "   SELLER_UNITED SHORE FINANCIAL SERVICES, LLC D/B/A UNITED WHOLESALE MORTGAGE  \\\n",
       "0                                                  0                             \n",
       "1                                                  0                             \n",
       "2                                                  0                             \n",
       "3                                                  0                             \n",
       "4                                                  0                             \n",
       "\n",
       "   SELLER_USAA FEDERAL SAVINGS BANK  SELLER_WELLS FARGO BANK,  NA  \\\n",
       "0                                 0                             0   \n",
       "1                                 0                             0   \n",
       "2                                 0                             0   \n",
       "3                                 0                             0   \n",
       "4                                 0                             0   \n",
       "\n",
       "   SELLER_WELLS FARGO BANK, N.A.  SELLER_WITMER FUNDING, LLC  \n",
       "0                              0                           0  \n",
       "1                              0                           0  \n",
       "2                              0                           0  \n",
       "3                              0                           0  \n",
       "4                              0                           0  \n",
       "\n",
       "[5 rows x 72 columns]"
      ]
     },
     "execution_count": 91,
     "metadata": {},
     "output_type": "execute_result"
    }
   ],
   "source": [
    "dummies_SELLER_NAME = pd.get_dummies(df['SELLER_NAME'])\n",
    "dummies_SELLER_NAME.columns = ['SELLER_' + str(col) for col in dummies_SELLER_NAME.columns]\n",
    "dummies_SELLER_NAME.head()"
   ]
  },
  {
   "cell_type": "code",
   "execution_count": 92,
   "metadata": {
    "collapsed": true
   },
   "outputs": [],
   "source": [
    "## Property State"
   ]
  },
  {
   "cell_type": "code",
   "execution_count": 93,
   "metadata": {},
   "outputs": [
    {
     "data": {
      "text/plain": [
       "CA    1559789\n",
       "FL     540258\n",
       "TX     500903\n",
       "IL     429141\n",
       "MI     340337\n",
       "NY     333319\n",
       "WA     319494\n",
       "MA     309285\n",
       "CO     293681\n",
       "PA     283147\n",
       "NJ     281389\n",
       "VA     276637\n",
       "AZ     273308\n",
       "OH     264418\n",
       "WI     254098\n",
       "GA     251802\n",
       "NC     230284\n",
       "MD     205853\n",
       "MN     194157\n",
       "MO     186534\n",
       "OR     171284\n",
       "IN     158812\n",
       "TN     138540\n",
       "UT     122276\n",
       "SC     115973\n",
       "CT     115757\n",
       "AL     106650\n",
       "LA     106264\n",
       "NV     100234\n",
       "IA      86502\n",
       "KY      76022\n",
       "OK      71824\n",
       "AR      59425\n",
       "KS      59408\n",
       "ID      57932\n",
       "NH      56935\n",
       "NE      54836\n",
       "HI      54503\n",
       "NM      54449\n",
       "MS      50498\n",
       "RI      39053\n",
       "MT      38346\n",
       "ME      35170\n",
       "DE      32663\n",
       "DC      24719\n",
       "SD      22548\n",
       "WY      21399\n",
       "VT      20849\n",
       "WV      20374\n",
       "PR      19965\n",
       "AK      16833\n",
       "ND      14015\n",
       "VI       1411\n",
       "GU        384\n",
       "Name: PROPERTY_STATE, dtype: int64"
      ]
     },
     "execution_count": 93,
     "metadata": {},
     "output_type": "execute_result"
    }
   ],
   "source": [
    "df['PROPERTY_STATE'].value_counts(dropna=False)"
   ]
  },
  {
   "cell_type": "code",
   "execution_count": 94,
   "metadata": {},
   "outputs": [
    {
     "data": {
      "text/html": [
       "<div>\n",
       "<style>\n",
       "    .dataframe thead tr:only-child th {\n",
       "        text-align: right;\n",
       "    }\n",
       "\n",
       "    .dataframe thead th {\n",
       "        text-align: left;\n",
       "    }\n",
       "\n",
       "    .dataframe tbody tr th {\n",
       "        vertical-align: top;\n",
       "    }\n",
       "</style>\n",
       "<table border=\"1\" class=\"dataframe\">\n",
       "  <thead>\n",
       "    <tr style=\"text-align: right;\">\n",
       "      <th></th>\n",
       "      <th>PROPERTY_STATE_AK</th>\n",
       "      <th>PROPERTY_STATE_AL</th>\n",
       "      <th>PROPERTY_STATE_AR</th>\n",
       "      <th>PROPERTY_STATE_AZ</th>\n",
       "      <th>PROPERTY_STATE_CA</th>\n",
       "      <th>PROPERTY_STATE_CO</th>\n",
       "      <th>PROPERTY_STATE_CT</th>\n",
       "      <th>PROPERTY_STATE_DC</th>\n",
       "      <th>PROPERTY_STATE_DE</th>\n",
       "      <th>PROPERTY_STATE_FL</th>\n",
       "      <th>...</th>\n",
       "      <th>PROPERTY_STATE_TN</th>\n",
       "      <th>PROPERTY_STATE_TX</th>\n",
       "      <th>PROPERTY_STATE_UT</th>\n",
       "      <th>PROPERTY_STATE_VA</th>\n",
       "      <th>PROPERTY_STATE_VI</th>\n",
       "      <th>PROPERTY_STATE_VT</th>\n",
       "      <th>PROPERTY_STATE_WA</th>\n",
       "      <th>PROPERTY_STATE_WI</th>\n",
       "      <th>PROPERTY_STATE_WV</th>\n",
       "      <th>PROPERTY_STATE_WY</th>\n",
       "    </tr>\n",
       "  </thead>\n",
       "  <tbody>\n",
       "    <tr>\n",
       "      <th>0</th>\n",
       "      <td>0</td>\n",
       "      <td>0</td>\n",
       "      <td>0</td>\n",
       "      <td>0</td>\n",
       "      <td>1</td>\n",
       "      <td>0</td>\n",
       "      <td>0</td>\n",
       "      <td>0</td>\n",
       "      <td>0</td>\n",
       "      <td>0</td>\n",
       "      <td>...</td>\n",
       "      <td>0</td>\n",
       "      <td>0</td>\n",
       "      <td>0</td>\n",
       "      <td>0</td>\n",
       "      <td>0</td>\n",
       "      <td>0</td>\n",
       "      <td>0</td>\n",
       "      <td>0</td>\n",
       "      <td>0</td>\n",
       "      <td>0</td>\n",
       "    </tr>\n",
       "    <tr>\n",
       "      <th>1</th>\n",
       "      <td>0</td>\n",
       "      <td>0</td>\n",
       "      <td>0</td>\n",
       "      <td>0</td>\n",
       "      <td>0</td>\n",
       "      <td>0</td>\n",
       "      <td>0</td>\n",
       "      <td>0</td>\n",
       "      <td>0</td>\n",
       "      <td>0</td>\n",
       "      <td>...</td>\n",
       "      <td>0</td>\n",
       "      <td>0</td>\n",
       "      <td>0</td>\n",
       "      <td>0</td>\n",
       "      <td>0</td>\n",
       "      <td>0</td>\n",
       "      <td>0</td>\n",
       "      <td>0</td>\n",
       "      <td>0</td>\n",
       "      <td>0</td>\n",
       "    </tr>\n",
       "    <tr>\n",
       "      <th>2</th>\n",
       "      <td>0</td>\n",
       "      <td>0</td>\n",
       "      <td>0</td>\n",
       "      <td>0</td>\n",
       "      <td>0</td>\n",
       "      <td>0</td>\n",
       "      <td>0</td>\n",
       "      <td>0</td>\n",
       "      <td>0</td>\n",
       "      <td>0</td>\n",
       "      <td>...</td>\n",
       "      <td>0</td>\n",
       "      <td>0</td>\n",
       "      <td>0</td>\n",
       "      <td>0</td>\n",
       "      <td>0</td>\n",
       "      <td>0</td>\n",
       "      <td>0</td>\n",
       "      <td>0</td>\n",
       "      <td>0</td>\n",
       "      <td>0</td>\n",
       "    </tr>\n",
       "    <tr>\n",
       "      <th>3</th>\n",
       "      <td>0</td>\n",
       "      <td>0</td>\n",
       "      <td>0</td>\n",
       "      <td>0</td>\n",
       "      <td>0</td>\n",
       "      <td>0</td>\n",
       "      <td>0</td>\n",
       "      <td>0</td>\n",
       "      <td>0</td>\n",
       "      <td>0</td>\n",
       "      <td>...</td>\n",
       "      <td>0</td>\n",
       "      <td>0</td>\n",
       "      <td>0</td>\n",
       "      <td>1</td>\n",
       "      <td>0</td>\n",
       "      <td>0</td>\n",
       "      <td>0</td>\n",
       "      <td>0</td>\n",
       "      <td>0</td>\n",
       "      <td>0</td>\n",
       "    </tr>\n",
       "    <tr>\n",
       "      <th>4</th>\n",
       "      <td>0</td>\n",
       "      <td>0</td>\n",
       "      <td>0</td>\n",
       "      <td>0</td>\n",
       "      <td>0</td>\n",
       "      <td>0</td>\n",
       "      <td>0</td>\n",
       "      <td>0</td>\n",
       "      <td>0</td>\n",
       "      <td>0</td>\n",
       "      <td>...</td>\n",
       "      <td>0</td>\n",
       "      <td>0</td>\n",
       "      <td>0</td>\n",
       "      <td>0</td>\n",
       "      <td>0</td>\n",
       "      <td>0</td>\n",
       "      <td>0</td>\n",
       "      <td>0</td>\n",
       "      <td>0</td>\n",
       "      <td>0</td>\n",
       "    </tr>\n",
       "  </tbody>\n",
       "</table>\n",
       "<p>5 rows × 54 columns</p>\n",
       "</div>"
      ],
      "text/plain": [
       "   PROPERTY_STATE_AK  PROPERTY_STATE_AL  PROPERTY_STATE_AR  PROPERTY_STATE_AZ  \\\n",
       "0                  0                  0                  0                  0   \n",
       "1                  0                  0                  0                  0   \n",
       "2                  0                  0                  0                  0   \n",
       "3                  0                  0                  0                  0   \n",
       "4                  0                  0                  0                  0   \n",
       "\n",
       "   PROPERTY_STATE_CA  PROPERTY_STATE_CO  PROPERTY_STATE_CT  PROPERTY_STATE_DC  \\\n",
       "0                  1                  0                  0                  0   \n",
       "1                  0                  0                  0                  0   \n",
       "2                  0                  0                  0                  0   \n",
       "3                  0                  0                  0                  0   \n",
       "4                  0                  0                  0                  0   \n",
       "\n",
       "   PROPERTY_STATE_DE  PROPERTY_STATE_FL        ...          PROPERTY_STATE_TN  \\\n",
       "0                  0                  0        ...                          0   \n",
       "1                  0                  0        ...                          0   \n",
       "2                  0                  0        ...                          0   \n",
       "3                  0                  0        ...                          0   \n",
       "4                  0                  0        ...                          0   \n",
       "\n",
       "   PROPERTY_STATE_TX  PROPERTY_STATE_UT  PROPERTY_STATE_VA  PROPERTY_STATE_VI  \\\n",
       "0                  0                  0                  0                  0   \n",
       "1                  0                  0                  0                  0   \n",
       "2                  0                  0                  0                  0   \n",
       "3                  0                  0                  1                  0   \n",
       "4                  0                  0                  0                  0   \n",
       "\n",
       "   PROPERTY_STATE_VT  PROPERTY_STATE_WA  PROPERTY_STATE_WI  PROPERTY_STATE_WV  \\\n",
       "0                  0                  0                  0                  0   \n",
       "1                  0                  0                  0                  0   \n",
       "2                  0                  0                  0                  0   \n",
       "3                  0                  0                  0                  0   \n",
       "4                  0                  0                  0                  0   \n",
       "\n",
       "   PROPERTY_STATE_WY  \n",
       "0                  0  \n",
       "1                  0  \n",
       "2                  0  \n",
       "3                  0  \n",
       "4                  0  \n",
       "\n",
       "[5 rows x 54 columns]"
      ]
     },
     "execution_count": 94,
     "metadata": {},
     "output_type": "execute_result"
    }
   ],
   "source": [
    "dummies_PROPERTY_STATE = pd.get_dummies(df['PROPERTY_STATE'])\n",
    "dummies_PROPERTY_STATE.columns = ['PROPERTY_STATE_' + str(col) for col in dummies_PROPERTY_STATE.columns]\n",
    "dummies_PROPERTY_STATE.head()"
   ]
  },
  {
   "cell_type": "code",
   "execution_count": null,
   "metadata": {
    "collapsed": true
   },
   "outputs": [],
   "source": []
  },
  {
   "cell_type": "code",
   "execution_count": null,
   "metadata": {
    "collapsed": true
   },
   "outputs": [],
   "source": []
  },
  {
   "cell_type": "code",
   "execution_count": 95,
   "metadata": {},
   "outputs": [
    {
     "data": {
      "text/html": [
       "<div>\n",
       "<style>\n",
       "    .dataframe thead tr:only-child th {\n",
       "        text-align: right;\n",
       "    }\n",
       "\n",
       "    .dataframe thead th {\n",
       "        text-align: left;\n",
       "    }\n",
       "\n",
       "    .dataframe tbody tr th {\n",
       "        vertical-align: top;\n",
       "    }\n",
       "</style>\n",
       "<table border=\"1\" class=\"dataframe\">\n",
       "  <thead>\n",
       "    <tr style=\"text-align: right;\">\n",
       "      <th></th>\n",
       "      <th>LOAN_IDENTIFIER</th>\n",
       "      <th>CHANNEL</th>\n",
       "      <th>SELLER_NAME</th>\n",
       "      <th>ORIGINAL_INTEREST_RATE</th>\n",
       "      <th>ORIGINAL_UNPAID_PRINCIPAL_BALANCE</th>\n",
       "      <th>ORIGINAL_LOAN_TERM</th>\n",
       "      <th>ORIGINATION_DATE</th>\n",
       "      <th>FIRST_PAYMENT_DATE</th>\n",
       "      <th>ORIGINAL_LOAN_TO_VALUE</th>\n",
       "      <th>ORIGINAL_COMBINED_LOAN_TO_VALUE</th>\n",
       "      <th>...</th>\n",
       "      <th>MONTH_03</th>\n",
       "      <th>MONTH_04</th>\n",
       "      <th>MONTH_05</th>\n",
       "      <th>MONTH_06</th>\n",
       "      <th>MONTH_07</th>\n",
       "      <th>MONTH_08</th>\n",
       "      <th>MONTH_09</th>\n",
       "      <th>MONTH_10</th>\n",
       "      <th>MONTH_11</th>\n",
       "      <th>MONTH_12</th>\n",
       "    </tr>\n",
       "  </thead>\n",
       "  <tbody>\n",
       "    <tr>\n",
       "      <th>0</th>\n",
       "      <td>731259366993</td>\n",
       "      <td>R</td>\n",
       "      <td>BANK OF AMERICA, N.A.</td>\n",
       "      <td>6.875</td>\n",
       "      <td>108000.0</td>\n",
       "      <td>360</td>\n",
       "      <td>10/2008</td>\n",
       "      <td>12/2008</td>\n",
       "      <td>70.0</td>\n",
       "      <td>70.0</td>\n",
       "      <td>...</td>\n",
       "      <td>0</td>\n",
       "      <td>0</td>\n",
       "      <td>0</td>\n",
       "      <td>0</td>\n",
       "      <td>0</td>\n",
       "      <td>0</td>\n",
       "      <td>0</td>\n",
       "      <td>1</td>\n",
       "      <td>0</td>\n",
       "      <td>0</td>\n",
       "    </tr>\n",
       "    <tr>\n",
       "      <th>1</th>\n",
       "      <td>378253318765</td>\n",
       "      <td>R</td>\n",
       "      <td>OTHER</td>\n",
       "      <td>4.000</td>\n",
       "      <td>168000.0</td>\n",
       "      <td>360</td>\n",
       "      <td>06/2015</td>\n",
       "      <td>08/2015</td>\n",
       "      <td>73.0</td>\n",
       "      <td>73.0</td>\n",
       "      <td>...</td>\n",
       "      <td>0</td>\n",
       "      <td>0</td>\n",
       "      <td>0</td>\n",
       "      <td>1</td>\n",
       "      <td>0</td>\n",
       "      <td>0</td>\n",
       "      <td>0</td>\n",
       "      <td>0</td>\n",
       "      <td>0</td>\n",
       "      <td>0</td>\n",
       "    </tr>\n",
       "    <tr>\n",
       "      <th>2</th>\n",
       "      <td>741859238541</td>\n",
       "      <td>C</td>\n",
       "      <td>GMAC MORTGAGE, LLC</td>\n",
       "      <td>6.500</td>\n",
       "      <td>140000.0</td>\n",
       "      <td>360</td>\n",
       "      <td>08/2008</td>\n",
       "      <td>10/2008</td>\n",
       "      <td>85.0</td>\n",
       "      <td>85.0</td>\n",
       "      <td>...</td>\n",
       "      <td>0</td>\n",
       "      <td>0</td>\n",
       "      <td>0</td>\n",
       "      <td>0</td>\n",
       "      <td>0</td>\n",
       "      <td>1</td>\n",
       "      <td>0</td>\n",
       "      <td>0</td>\n",
       "      <td>0</td>\n",
       "      <td>0</td>\n",
       "    </tr>\n",
       "    <tr>\n",
       "      <th>3</th>\n",
       "      <td>382868191590</td>\n",
       "      <td>R</td>\n",
       "      <td>OTHER</td>\n",
       "      <td>4.000</td>\n",
       "      <td>356000.0</td>\n",
       "      <td>360</td>\n",
       "      <td>03/2015</td>\n",
       "      <td>05/2015</td>\n",
       "      <td>75.0</td>\n",
       "      <td>75.0</td>\n",
       "      <td>...</td>\n",
       "      <td>1</td>\n",
       "      <td>0</td>\n",
       "      <td>0</td>\n",
       "      <td>0</td>\n",
       "      <td>0</td>\n",
       "      <td>0</td>\n",
       "      <td>0</td>\n",
       "      <td>0</td>\n",
       "      <td>0</td>\n",
       "      <td>0</td>\n",
       "    </tr>\n",
       "    <tr>\n",
       "      <th>4</th>\n",
       "      <td>180085005240</td>\n",
       "      <td>C</td>\n",
       "      <td>AMTRUST BANK</td>\n",
       "      <td>7.250</td>\n",
       "      <td>121000.0</td>\n",
       "      <td>360</td>\n",
       "      <td>03/2001</td>\n",
       "      <td>05/2001</td>\n",
       "      <td>84.0</td>\n",
       "      <td>84.0</td>\n",
       "      <td>...</td>\n",
       "      <td>1</td>\n",
       "      <td>0</td>\n",
       "      <td>0</td>\n",
       "      <td>0</td>\n",
       "      <td>0</td>\n",
       "      <td>0</td>\n",
       "      <td>0</td>\n",
       "      <td>0</td>\n",
       "      <td>0</td>\n",
       "      <td>0</td>\n",
       "    </tr>\n",
       "  </tbody>\n",
       "</table>\n",
       "<p>5 rows × 219 columns</p>\n",
       "</div>"
      ],
      "text/plain": [
       "   LOAN_IDENTIFIER CHANNEL            SELLER_NAME  ORIGINAL_INTEREST_RATE  \\\n",
       "0     731259366993       R  BANK OF AMERICA, N.A.                   6.875   \n",
       "1     378253318765       R                  OTHER                   4.000   \n",
       "2     741859238541       C     GMAC MORTGAGE, LLC                   6.500   \n",
       "3     382868191590       R                  OTHER                   4.000   \n",
       "4     180085005240       C           AMTRUST BANK                   7.250   \n",
       "\n",
       "   ORIGINAL_UNPAID_PRINCIPAL_BALANCE  ORIGINAL_LOAN_TERM ORIGINATION_DATE  \\\n",
       "0                           108000.0                 360          10/2008   \n",
       "1                           168000.0                 360          06/2015   \n",
       "2                           140000.0                 360          08/2008   \n",
       "3                           356000.0                 360          03/2015   \n",
       "4                           121000.0                 360          03/2001   \n",
       "\n",
       "  FIRST_PAYMENT_DATE  ORIGINAL_LOAN_TO_VALUE  ORIGINAL_COMBINED_LOAN_TO_VALUE  \\\n",
       "0            12/2008                    70.0                             70.0   \n",
       "1            08/2015                    73.0                             73.0   \n",
       "2            10/2008                    85.0                             85.0   \n",
       "3            05/2015                    75.0                             75.0   \n",
       "4            05/2001                    84.0                             84.0   \n",
       "\n",
       "     ...     MONTH_03  MONTH_04  MONTH_05 MONTH_06 MONTH_07 MONTH_08  \\\n",
       "0    ...            0         0         0        0        0        0   \n",
       "1    ...            0         0         0        1        0        0   \n",
       "2    ...            0         0         0        0        0        1   \n",
       "3    ...            1         0         0        0        0        0   \n",
       "4    ...            1         0         0        0        0        0   \n",
       "\n",
       "   MONTH_09 MONTH_10 MONTH_11  MONTH_12  \n",
       "0         0        1        0         0  \n",
       "1         0        0        0         0  \n",
       "2         0        0        0         0  \n",
       "3         0        0        0         0  \n",
       "4         0        0        0         0  \n",
       "\n",
       "[5 rows x 219 columns]"
      ]
     },
     "execution_count": 95,
     "metadata": {},
     "output_type": "execute_result"
    }
   ],
   "source": [
    "df_with_dummies = pd.concat([df, dummies_CHANNEL, dummies_BORROWERS, dummies_YEAR,\n",
    "                            dummies_FIRST_TIME_HOME_BUYER_INDICATOR,dummies_LOAN_PURPOSE,\n",
    "                            dummies_NUMBER_OF_UNITS,dummies_OCCUPANCY_STATUS,dummies_PROPERTY_TYPE,\n",
    "                            dummies_SELLER_NAME, dummies_PROPERTY_STATE, dummies_MONTH], axis=1)\n",
    "df_with_dummies.head()"
   ]
  },
  {
   "cell_type": "markdown",
   "metadata": {},
   "source": [
    "# Create training, validation, and testing sets"
   ]
  },
  {
   "cell_type": "markdown",
   "metadata": {},
   "source": [
    "Drop Values in the column that you don't need in the dataframe and model."
   ]
  },
  {
   "cell_type": "code",
   "execution_count": 96,
   "metadata": {},
   "outputs": [],
   "source": [
    "df_with_dummies = df_with_dummies.drop(['CHANNEL', 'NUMBER_OF_BORROWERS', 'YEAR', 'FIRST_TIME_HOME_BUYER_INDICATOR',\n",
    "                      'LOAN_PURPOSE', 'NUMBER_OF_UNITS', 'OCCUPANCY_STATUS', 'PROPERTY_TYPE',\n",
    "                      'SELLER_NAME','ORIGINATION_DATE','FIRST_PAYMENT_DATE', 'ZIP_3_DIGIT','MORTGAGE_INSURANCE_PERCENTAGE',\n",
    "                     'PRODUCT_TYPE','CO_BORROWER_CREDIT_SCORE', 'MORTGAGE_INSURANCE_TYPE', 'METROPOLITAN_STATISTICAL_AREA',\n",
    "                     'MSA_NAME', 'MSA_POPULATION','ZERO_BALANCE_CODE', 'is_Set','ORIGINAL_COMBINED_LOAN_TO_VALUE',\n",
    "                     'PROPERTY_STATE','MONTH'], axis=1)\n"
   ]
  },
  {
   "cell_type": "markdown",
   "metadata": {},
   "source": [
    "Change the DEFAULT_FLAG column to the end of the dataframe."
   ]
  },
  {
   "cell_type": "code",
   "execution_count": 97,
   "metadata": {},
   "outputs": [
    {
     "data": {
      "text/html": [
       "<div>\n",
       "<style>\n",
       "    .dataframe thead tr:only-child th {\n",
       "        text-align: right;\n",
       "    }\n",
       "\n",
       "    .dataframe thead th {\n",
       "        text-align: left;\n",
       "    }\n",
       "\n",
       "    .dataframe tbody tr th {\n",
       "        vertical-align: top;\n",
       "    }\n",
       "</style>\n",
       "<table border=\"1\" class=\"dataframe\">\n",
       "  <thead>\n",
       "    <tr style=\"text-align: right;\">\n",
       "      <th></th>\n",
       "      <th>LOAN_IDENTIFIER</th>\n",
       "      <th>ORIGINAL_INTEREST_RATE</th>\n",
       "      <th>ORIGINAL_UNPAID_PRINCIPAL_BALANCE</th>\n",
       "      <th>ORIGINAL_LOAN_TERM</th>\n",
       "      <th>ORIGINAL_LOAN_TO_VALUE</th>\n",
       "      <th>DEBT_TO_INCOME_RATIO</th>\n",
       "      <th>BORROWER_CREDIT_SCORE</th>\n",
       "      <th>is_CHANNEL_B</th>\n",
       "      <th>is_CHANNEL_C</th>\n",
       "      <th>is_CHANNEL_R</th>\n",
       "      <th>...</th>\n",
       "      <th>MONTH_04</th>\n",
       "      <th>MONTH_05</th>\n",
       "      <th>MONTH_06</th>\n",
       "      <th>MONTH_07</th>\n",
       "      <th>MONTH_08</th>\n",
       "      <th>MONTH_09</th>\n",
       "      <th>MONTH_10</th>\n",
       "      <th>MONTH_11</th>\n",
       "      <th>MONTH_12</th>\n",
       "      <th>DEFAULT_FLAG</th>\n",
       "    </tr>\n",
       "  </thead>\n",
       "  <tbody>\n",
       "    <tr>\n",
       "      <th>0</th>\n",
       "      <td>731259366993</td>\n",
       "      <td>6.875</td>\n",
       "      <td>108000.0</td>\n",
       "      <td>360</td>\n",
       "      <td>70.0</td>\n",
       "      <td>42.0</td>\n",
       "      <td>700.0</td>\n",
       "      <td>0</td>\n",
       "      <td>0</td>\n",
       "      <td>1</td>\n",
       "      <td>...</td>\n",
       "      <td>0</td>\n",
       "      <td>0</td>\n",
       "      <td>0</td>\n",
       "      <td>0</td>\n",
       "      <td>0</td>\n",
       "      <td>0</td>\n",
       "      <td>1</td>\n",
       "      <td>0</td>\n",
       "      <td>0</td>\n",
       "      <td>0</td>\n",
       "    </tr>\n",
       "    <tr>\n",
       "      <th>1</th>\n",
       "      <td>378253318765</td>\n",
       "      <td>4.000</td>\n",
       "      <td>168000.0</td>\n",
       "      <td>360</td>\n",
       "      <td>73.0</td>\n",
       "      <td>33.0</td>\n",
       "      <td>706.0</td>\n",
       "      <td>0</td>\n",
       "      <td>0</td>\n",
       "      <td>1</td>\n",
       "      <td>...</td>\n",
       "      <td>0</td>\n",
       "      <td>0</td>\n",
       "      <td>1</td>\n",
       "      <td>0</td>\n",
       "      <td>0</td>\n",
       "      <td>0</td>\n",
       "      <td>0</td>\n",
       "      <td>0</td>\n",
       "      <td>0</td>\n",
       "      <td>0</td>\n",
       "    </tr>\n",
       "    <tr>\n",
       "      <th>2</th>\n",
       "      <td>741859238541</td>\n",
       "      <td>6.500</td>\n",
       "      <td>140000.0</td>\n",
       "      <td>360</td>\n",
       "      <td>85.0</td>\n",
       "      <td>46.0</td>\n",
       "      <td>719.0</td>\n",
       "      <td>0</td>\n",
       "      <td>1</td>\n",
       "      <td>0</td>\n",
       "      <td>...</td>\n",
       "      <td>0</td>\n",
       "      <td>0</td>\n",
       "      <td>0</td>\n",
       "      <td>0</td>\n",
       "      <td>1</td>\n",
       "      <td>0</td>\n",
       "      <td>0</td>\n",
       "      <td>0</td>\n",
       "      <td>0</td>\n",
       "      <td>0</td>\n",
       "    </tr>\n",
       "    <tr>\n",
       "      <th>3</th>\n",
       "      <td>382868191590</td>\n",
       "      <td>4.000</td>\n",
       "      <td>356000.0</td>\n",
       "      <td>360</td>\n",
       "      <td>75.0</td>\n",
       "      <td>39.0</td>\n",
       "      <td>794.0</td>\n",
       "      <td>0</td>\n",
       "      <td>0</td>\n",
       "      <td>1</td>\n",
       "      <td>...</td>\n",
       "      <td>0</td>\n",
       "      <td>0</td>\n",
       "      <td>0</td>\n",
       "      <td>0</td>\n",
       "      <td>0</td>\n",
       "      <td>0</td>\n",
       "      <td>0</td>\n",
       "      <td>0</td>\n",
       "      <td>0</td>\n",
       "      <td>0</td>\n",
       "    </tr>\n",
       "    <tr>\n",
       "      <th>4</th>\n",
       "      <td>180085005240</td>\n",
       "      <td>7.250</td>\n",
       "      <td>121000.0</td>\n",
       "      <td>360</td>\n",
       "      <td>84.0</td>\n",
       "      <td>39.0</td>\n",
       "      <td>690.0</td>\n",
       "      <td>0</td>\n",
       "      <td>1</td>\n",
       "      <td>0</td>\n",
       "      <td>...</td>\n",
       "      <td>0</td>\n",
       "      <td>0</td>\n",
       "      <td>0</td>\n",
       "      <td>0</td>\n",
       "      <td>0</td>\n",
       "      <td>0</td>\n",
       "      <td>0</td>\n",
       "      <td>0</td>\n",
       "      <td>0</td>\n",
       "      <td>0</td>\n",
       "    </tr>\n",
       "  </tbody>\n",
       "</table>\n",
       "<p>5 rows × 195 columns</p>\n",
       "</div>"
      ],
      "text/plain": [
       "   LOAN_IDENTIFIER  ORIGINAL_INTEREST_RATE  ORIGINAL_UNPAID_PRINCIPAL_BALANCE  \\\n",
       "0     731259366993                   6.875                           108000.0   \n",
       "1     378253318765                   4.000                           168000.0   \n",
       "2     741859238541                   6.500                           140000.0   \n",
       "3     382868191590                   4.000                           356000.0   \n",
       "4     180085005240                   7.250                           121000.0   \n",
       "\n",
       "   ORIGINAL_LOAN_TERM  ORIGINAL_LOAN_TO_VALUE  DEBT_TO_INCOME_RATIO  \\\n",
       "0                 360                    70.0                  42.0   \n",
       "1                 360                    73.0                  33.0   \n",
       "2                 360                    85.0                  46.0   \n",
       "3                 360                    75.0                  39.0   \n",
       "4                 360                    84.0                  39.0   \n",
       "\n",
       "   BORROWER_CREDIT_SCORE  is_CHANNEL_B  is_CHANNEL_C  is_CHANNEL_R  \\\n",
       "0                  700.0             0             0             1   \n",
       "1                  706.0             0             0             1   \n",
       "2                  719.0             0             1             0   \n",
       "3                  794.0             0             0             1   \n",
       "4                  690.0             0             1             0   \n",
       "\n",
       "       ...       MONTH_04  MONTH_05  MONTH_06  MONTH_07  MONTH_08  MONTH_09  \\\n",
       "0      ...              0         0         0         0         0         0   \n",
       "1      ...              0         0         1         0         0         0   \n",
       "2      ...              0         0         0         0         1         0   \n",
       "3      ...              0         0         0         0         0         0   \n",
       "4      ...              0         0         0         0         0         0   \n",
       "\n",
       "   MONTH_10  MONTH_11  MONTH_12  DEFAULT_FLAG  \n",
       "0         1         0         0             0  \n",
       "1         0         0         0             0  \n",
       "2         0         0         0             0  \n",
       "3         0         0         0             0  \n",
       "4         0         0         0             0  \n",
       "\n",
       "[5 rows x 195 columns]"
      ]
     },
     "execution_count": 97,
     "metadata": {},
     "output_type": "execute_result"
    }
   ],
   "source": [
    "cols = df_with_dummies.columns.tolist()\n",
    "cols = cols[0:7] + cols[8:] + cols[7:8]\n",
    "df_with_dummies = df_with_dummies[cols]\n",
    "df_with_dummies.head()\n"
   ]
  },
  {
   "cell_type": "markdown",
   "metadata": {},
   "source": [
    "Split the entire data frame into the training and testing sets. To do this, use the loc function to subset a data frame, taking only some rows and some columns."
   ]
  },
  {
   "cell_type": "code",
   "execution_count": 98,
   "metadata": {
    "collapsed": true
   },
   "outputs": [],
   "source": [
    "X_orig_train = df_with_dummies.iloc[:(n_train), :-1]\n",
    "X_test = df_with_dummies.iloc[n_train:, :-1].reset_index(drop=True)\n",
    "y_orig_train = df_with_dummies.loc[:(n_train-1), 'DEFAULT_FLAG']\n",
    "y_test = df_with_dummies.loc[n_train:, 'DEFAULT_FLAG'].reset_index(drop=True)"
   ]
  },
  {
   "cell_type": "code",
   "execution_count": null,
   "metadata": {
    "collapsed": true
   },
   "outputs": [],
   "source": []
  },
  {
   "cell_type": "raw",
   "metadata": {},
   "source": []
  },
  {
   "cell_type": "markdown",
   "metadata": {},
   "source": [
    "Create a smaller training set and a validation set out of the original training set."
   ]
  },
  {
   "cell_type": "code",
   "execution_count": 99,
   "metadata": {
    "collapsed": true
   },
   "outputs": [],
   "source": [
    "X_train, X_valid, y_train, y_valid = train_test_split(X_orig_train, y_orig_train, test_size=0.25, random_state=201)"
   ]
  },
  {
   "cell_type": "markdown",
   "metadata": {},
   "source": [
    "# Set up the scoring rule"
   ]
  },
  {
   "cell_type": "markdown",
   "metadata": {},
   "source": [
    "Write a function to calculate the average Brier score.  The Brier score is 1 minus the mean squared error."
   ]
  },
  {
   "cell_type": "code",
   "execution_count": 100,
   "metadata": {
    "collapsed": true
   },
   "outputs": [],
   "source": [
    "from sklearn.metrics import brier_score_loss\n",
    "def brier_score(predictions, realizations):\n",
    "    this_brier_score = 1 - brier_score_loss(realizations, predictions)\n",
    "    return this_brier_score"
   ]
  },
  {
   "cell_type": "markdown",
   "metadata": {},
   "source": [
    "Write a function to calculate the skill score, your predictions' percentage toward perfect above and beyond the naive forecast. In other words, how much of the gap toward perfection did your model close?"
   ]
  },
  {
   "cell_type": "code",
   "execution_count": 101,
   "metadata": {
    "collapsed": true
   },
   "outputs": [],
   "source": [
    "def skill_score(predictions, realizations):\n",
    "    naive = np.repeat(np.mean(y_orig_train), len(realizations))\n",
    "    this_skill_score = (brier_score(predictions, realizations) - brier_score(naive, realizations)) / (1 - brier_score(naive, realizations))\n",
    "    return this_skill_score"
   ]
  },
  {
   "cell_type": "code",
   "execution_count": 102,
   "metadata": {},
   "outputs": [
    {
     "data": {
      "text/plain": [
       "0.0"
      ]
     },
     "execution_count": 102,
     "metadata": {},
     "output_type": "execute_result"
    }
   ],
   "source": [
    "naive = np.repeat(np.mean(y_orig_train), len( y_valid))\n",
    "skill_score(naive, y_valid)"
   ]
  },
  {
   "cell_type": "markdown",
   "metadata": {},
   "source": [
    "# Classification tree (or decision tree classifier)"
   ]
  },
  {
   "cell_type": "code",
   "execution_count": 68,
   "metadata": {},
   "outputs": [
    {
     "data": {
      "text/plain": [
       "154.7898726463318"
      ]
     },
     "execution_count": 68,
     "metadata": {},
     "output_type": "execute_result"
    }
   ],
   "source": [
    "algorithm_starts = time.time()\n",
    "dt = DecisionTreeClassifier(min_samples_split=5000, max_depth=50, random_state=201)\n",
    "dt_train = dt.fit(X_train, y_train)\n",
    "dt_valid_prob_all = pd.DataFrame(dt_train.predict_proba(X_valid))\n",
    "dt_valid_prob = dt_valid_prob_all[1]\n",
    "time.time() - algorithm_starts"
   ]
  },
  {
   "cell_type": "code",
   "execution_count": 69,
   "metadata": {},
   "outputs": [
    {
     "data": {
      "text/html": [
       "<div>\n",
       "<style>\n",
       "    .dataframe thead tr:only-child th {\n",
       "        text-align: right;\n",
       "    }\n",
       "\n",
       "    .dataframe thead th {\n",
       "        text-align: left;\n",
       "    }\n",
       "\n",
       "    .dataframe tbody tr th {\n",
       "        vertical-align: top;\n",
       "    }\n",
       "</style>\n",
       "<table border=\"1\" class=\"dataframe\">\n",
       "  <thead>\n",
       "    <tr style=\"text-align: right;\">\n",
       "      <th></th>\n",
       "      <th>0</th>\n",
       "    </tr>\n",
       "  </thead>\n",
       "  <tbody>\n",
       "    <tr>\n",
       "      <th>LOAN_IDENTIFIER</th>\n",
       "      <td>2.354256e-03</td>\n",
       "    </tr>\n",
       "    <tr>\n",
       "      <th>ORIGINAL_INTEREST_RATE</th>\n",
       "      <td>6.896682e-02</td>\n",
       "    </tr>\n",
       "    <tr>\n",
       "      <th>ORIGINAL_UNPAID_PRINCIPAL_BALANCE</th>\n",
       "      <td>3.453833e-02</td>\n",
       "    </tr>\n",
       "    <tr>\n",
       "      <th>ORIGINAL_LOAN_TERM</th>\n",
       "      <td>9.940937e-04</td>\n",
       "    </tr>\n",
       "    <tr>\n",
       "      <th>ORIGINAL_LOAN_TO_VALUE</th>\n",
       "      <td>1.080216e-01</td>\n",
       "    </tr>\n",
       "    <tr>\n",
       "      <th>DEBT_TO_INCOME_RATIO</th>\n",
       "      <td>7.057358e-03</td>\n",
       "    </tr>\n",
       "    <tr>\n",
       "      <th>BORROWER_CREDIT_SCORE</th>\n",
       "      <td>1.634061e-01</td>\n",
       "    </tr>\n",
       "    <tr>\n",
       "      <th>is_CHANNEL_B</th>\n",
       "      <td>2.878004e-04</td>\n",
       "    </tr>\n",
       "    <tr>\n",
       "      <th>is_CHANNEL_C</th>\n",
       "      <td>2.329816e-06</td>\n",
       "    </tr>\n",
       "    <tr>\n",
       "      <th>is_CHANNEL_R</th>\n",
       "      <td>4.741032e-04</td>\n",
       "    </tr>\n",
       "    <tr>\n",
       "      <th>Borrowers_is_1.0</th>\n",
       "      <td>1.472759e-02</td>\n",
       "    </tr>\n",
       "    <tr>\n",
       "      <th>Borrowers_is_2.0</th>\n",
       "      <td>2.027073e-03</td>\n",
       "    </tr>\n",
       "    <tr>\n",
       "      <th>Borrowers_is_3.0</th>\n",
       "      <td>1.410879e-05</td>\n",
       "    </tr>\n",
       "    <tr>\n",
       "      <th>Borrowers_is_4.0</th>\n",
       "      <td>1.827376e-05</td>\n",
       "    </tr>\n",
       "    <tr>\n",
       "      <th>Borrowers_is_5.0</th>\n",
       "      <td>0.000000e+00</td>\n",
       "    </tr>\n",
       "    <tr>\n",
       "      <th>Borrowers_is_6.0</th>\n",
       "      <td>0.000000e+00</td>\n",
       "    </tr>\n",
       "    <tr>\n",
       "      <th>Borrowers_is_7.0</th>\n",
       "      <td>0.000000e+00</td>\n",
       "    </tr>\n",
       "    <tr>\n",
       "      <th>Borrowers_is_8.0</th>\n",
       "      <td>0.000000e+00</td>\n",
       "    </tr>\n",
       "    <tr>\n",
       "      <th>Borrowers_is_9.0</th>\n",
       "      <td>0.000000e+00</td>\n",
       "    </tr>\n",
       "    <tr>\n",
       "      <th>Borrowers_is_10.0</th>\n",
       "      <td>0.000000e+00</td>\n",
       "    </tr>\n",
       "    <tr>\n",
       "      <th>is_YEAR_1999</th>\n",
       "      <td>6.125458e-07</td>\n",
       "    </tr>\n",
       "    <tr>\n",
       "      <th>is_YEAR_2000</th>\n",
       "      <td>0.000000e+00</td>\n",
       "    </tr>\n",
       "    <tr>\n",
       "      <th>is_YEAR_2001</th>\n",
       "      <td>2.803232e-05</td>\n",
       "    </tr>\n",
       "    <tr>\n",
       "      <th>is_YEAR_2002</th>\n",
       "      <td>3.581908e-05</td>\n",
       "    </tr>\n",
       "    <tr>\n",
       "      <th>is_YEAR_2003</th>\n",
       "      <td>1.146202e-02</td>\n",
       "    </tr>\n",
       "    <tr>\n",
       "      <th>is_YEAR_2004</th>\n",
       "      <td>1.526083e-02</td>\n",
       "    </tr>\n",
       "    <tr>\n",
       "      <th>is_YEAR_2005</th>\n",
       "      <td>5.213047e-02</td>\n",
       "    </tr>\n",
       "    <tr>\n",
       "      <th>is_YEAR_2006</th>\n",
       "      <td>7.953412e-02</td>\n",
       "    </tr>\n",
       "    <tr>\n",
       "      <th>is_YEAR_2007</th>\n",
       "      <td>9.381868e-02</td>\n",
       "    </tr>\n",
       "    <tr>\n",
       "      <th>is_YEAR_2008</th>\n",
       "      <td>3.789641e-02</td>\n",
       "    </tr>\n",
       "    <tr>\n",
       "      <th>...</th>\n",
       "      <td>...</td>\n",
       "    </tr>\n",
       "    <tr>\n",
       "      <th>PROPERTY_STATE_OH</th>\n",
       "      <td>8.768329e-03</td>\n",
       "    </tr>\n",
       "    <tr>\n",
       "      <th>PROPERTY_STATE_OK</th>\n",
       "      <td>2.640013e-04</td>\n",
       "    </tr>\n",
       "    <tr>\n",
       "      <th>PROPERTY_STATE_OR</th>\n",
       "      <td>3.111613e-04</td>\n",
       "    </tr>\n",
       "    <tr>\n",
       "      <th>PROPERTY_STATE_PA</th>\n",
       "      <td>3.701327e-05</td>\n",
       "    </tr>\n",
       "    <tr>\n",
       "      <th>PROPERTY_STATE_PR</th>\n",
       "      <td>1.316673e-04</td>\n",
       "    </tr>\n",
       "    <tr>\n",
       "      <th>PROPERTY_STATE_RI</th>\n",
       "      <td>9.348849e-06</td>\n",
       "    </tr>\n",
       "    <tr>\n",
       "      <th>PROPERTY_STATE_SC</th>\n",
       "      <td>4.201958e-04</td>\n",
       "    </tr>\n",
       "    <tr>\n",
       "      <th>PROPERTY_STATE_SD</th>\n",
       "      <td>1.068687e-04</td>\n",
       "    </tr>\n",
       "    <tr>\n",
       "      <th>PROPERTY_STATE_TN</th>\n",
       "      <td>3.206948e-04</td>\n",
       "    </tr>\n",
       "    <tr>\n",
       "      <th>PROPERTY_STATE_TX</th>\n",
       "      <td>1.292039e-03</td>\n",
       "    </tr>\n",
       "    <tr>\n",
       "      <th>PROPERTY_STATE_UT</th>\n",
       "      <td>8.906839e-05</td>\n",
       "    </tr>\n",
       "    <tr>\n",
       "      <th>PROPERTY_STATE_VA</th>\n",
       "      <td>1.330119e-04</td>\n",
       "    </tr>\n",
       "    <tr>\n",
       "      <th>PROPERTY_STATE_VI</th>\n",
       "      <td>0.000000e+00</td>\n",
       "    </tr>\n",
       "    <tr>\n",
       "      <th>PROPERTY_STATE_VT</th>\n",
       "      <td>1.337198e-05</td>\n",
       "    </tr>\n",
       "    <tr>\n",
       "      <th>PROPERTY_STATE_WA</th>\n",
       "      <td>3.521771e-04</td>\n",
       "    </tr>\n",
       "    <tr>\n",
       "      <th>PROPERTY_STATE_WI</th>\n",
       "      <td>1.637263e-04</td>\n",
       "    </tr>\n",
       "    <tr>\n",
       "      <th>PROPERTY_STATE_WV</th>\n",
       "      <td>3.442962e-04</td>\n",
       "    </tr>\n",
       "    <tr>\n",
       "      <th>PROPERTY_STATE_WY</th>\n",
       "      <td>4.282769e-05</td>\n",
       "    </tr>\n",
       "    <tr>\n",
       "      <th>MONTH_01</th>\n",
       "      <td>8.205755e-05</td>\n",
       "    </tr>\n",
       "    <tr>\n",
       "      <th>MONTH_02</th>\n",
       "      <td>2.167888e-05</td>\n",
       "    </tr>\n",
       "    <tr>\n",
       "      <th>MONTH_03</th>\n",
       "      <td>2.540247e-04</td>\n",
       "    </tr>\n",
       "    <tr>\n",
       "      <th>MONTH_04</th>\n",
       "      <td>8.014329e-06</td>\n",
       "    </tr>\n",
       "    <tr>\n",
       "      <th>MONTH_05</th>\n",
       "      <td>1.134976e-05</td>\n",
       "    </tr>\n",
       "    <tr>\n",
       "      <th>MONTH_06</th>\n",
       "      <td>3.220153e-05</td>\n",
       "    </tr>\n",
       "    <tr>\n",
       "      <th>MONTH_07</th>\n",
       "      <td>4.909842e-05</td>\n",
       "    </tr>\n",
       "    <tr>\n",
       "      <th>MONTH_08</th>\n",
       "      <td>2.364417e-07</td>\n",
       "    </tr>\n",
       "    <tr>\n",
       "      <th>MONTH_09</th>\n",
       "      <td>1.922976e-06</td>\n",
       "    </tr>\n",
       "    <tr>\n",
       "      <th>MONTH_10</th>\n",
       "      <td>1.136373e-05</td>\n",
       "    </tr>\n",
       "    <tr>\n",
       "      <th>MONTH_11</th>\n",
       "      <td>2.095266e-04</td>\n",
       "    </tr>\n",
       "    <tr>\n",
       "      <th>MONTH_12</th>\n",
       "      <td>2.850476e-05</td>\n",
       "    </tr>\n",
       "  </tbody>\n",
       "</table>\n",
       "<p>194 rows × 1 columns</p>\n",
       "</div>"
      ],
      "text/plain": [
       "                                              0\n",
       "LOAN_IDENTIFIER                    2.354256e-03\n",
       "ORIGINAL_INTEREST_RATE             6.896682e-02\n",
       "ORIGINAL_UNPAID_PRINCIPAL_BALANCE  3.453833e-02\n",
       "ORIGINAL_LOAN_TERM                 9.940937e-04\n",
       "ORIGINAL_LOAN_TO_VALUE             1.080216e-01\n",
       "DEBT_TO_INCOME_RATIO               7.057358e-03\n",
       "BORROWER_CREDIT_SCORE              1.634061e-01\n",
       "is_CHANNEL_B                       2.878004e-04\n",
       "is_CHANNEL_C                       2.329816e-06\n",
       "is_CHANNEL_R                       4.741032e-04\n",
       "Borrowers_is_1.0                   1.472759e-02\n",
       "Borrowers_is_2.0                   2.027073e-03\n",
       "Borrowers_is_3.0                   1.410879e-05\n",
       "Borrowers_is_4.0                   1.827376e-05\n",
       "Borrowers_is_5.0                   0.000000e+00\n",
       "Borrowers_is_6.0                   0.000000e+00\n",
       "Borrowers_is_7.0                   0.000000e+00\n",
       "Borrowers_is_8.0                   0.000000e+00\n",
       "Borrowers_is_9.0                   0.000000e+00\n",
       "Borrowers_is_10.0                  0.000000e+00\n",
       "is_YEAR_1999                       6.125458e-07\n",
       "is_YEAR_2000                       0.000000e+00\n",
       "is_YEAR_2001                       2.803232e-05\n",
       "is_YEAR_2002                       3.581908e-05\n",
       "is_YEAR_2003                       1.146202e-02\n",
       "is_YEAR_2004                       1.526083e-02\n",
       "is_YEAR_2005                       5.213047e-02\n",
       "is_YEAR_2006                       7.953412e-02\n",
       "is_YEAR_2007                       9.381868e-02\n",
       "is_YEAR_2008                       3.789641e-02\n",
       "...                                         ...\n",
       "PROPERTY_STATE_OH                  8.768329e-03\n",
       "PROPERTY_STATE_OK                  2.640013e-04\n",
       "PROPERTY_STATE_OR                  3.111613e-04\n",
       "PROPERTY_STATE_PA                  3.701327e-05\n",
       "PROPERTY_STATE_PR                  1.316673e-04\n",
       "PROPERTY_STATE_RI                  9.348849e-06\n",
       "PROPERTY_STATE_SC                  4.201958e-04\n",
       "PROPERTY_STATE_SD                  1.068687e-04\n",
       "PROPERTY_STATE_TN                  3.206948e-04\n",
       "PROPERTY_STATE_TX                  1.292039e-03\n",
       "PROPERTY_STATE_UT                  8.906839e-05\n",
       "PROPERTY_STATE_VA                  1.330119e-04\n",
       "PROPERTY_STATE_VI                  0.000000e+00\n",
       "PROPERTY_STATE_VT                  1.337198e-05\n",
       "PROPERTY_STATE_WA                  3.521771e-04\n",
       "PROPERTY_STATE_WI                  1.637263e-04\n",
       "PROPERTY_STATE_WV                  3.442962e-04\n",
       "PROPERTY_STATE_WY                  4.282769e-05\n",
       "MONTH_01                           8.205755e-05\n",
       "MONTH_02                           2.167888e-05\n",
       "MONTH_03                           2.540247e-04\n",
       "MONTH_04                           8.014329e-06\n",
       "MONTH_05                           1.134976e-05\n",
       "MONTH_06                           3.220153e-05\n",
       "MONTH_07                           4.909842e-05\n",
       "MONTH_08                           2.364417e-07\n",
       "MONTH_09                           1.922976e-06\n",
       "MONTH_10                           1.136373e-05\n",
       "MONTH_11                           2.095266e-04\n",
       "MONTH_12                           2.850476e-05\n",
       "\n",
       "[194 rows x 1 columns]"
      ]
     },
     "execution_count": 69,
     "metadata": {},
     "output_type": "execute_result"
    }
   ],
   "source": [
    "pd.DataFrame(dt_train.feature_importances_, index=X_train.columns)"
   ]
  },
  {
   "cell_type": "code",
   "execution_count": 70,
   "metadata": {},
   "outputs": [
    {
     "data": {
      "text/plain": [
       "0.08144991384742184"
      ]
     },
     "execution_count": 70,
     "metadata": {},
     "output_type": "execute_result"
    }
   ],
   "source": [
    "skill_score(dt_valid_prob, y_valid)"
   ]
  },
  {
   "cell_type": "markdown",
   "metadata": {},
   "source": [
    "# Logistic regression"
   ]
  },
  {
   "cell_type": "code",
   "execution_count": 71,
   "metadata": {},
   "outputs": [
    {
     "data": {
      "text/plain": [
       "15.35661244392395"
      ]
     },
     "execution_count": 71,
     "metadata": {},
     "output_type": "execute_result"
    }
   ],
   "source": [
    "algorithm_starts = time.time()\n",
    "lr = LogisticRegression(C=1, random_state=201)\n",
    "lr_train = lr.fit(X_train, y_train)\n",
    "lr_valid_prob_all = pd.DataFrame(lr_train.predict_proba(X_valid))\n",
    "lr_valid_prob = lr_valid_prob_all[1]\n",
    "time.time() - algorithm_starts"
   ]
  },
  {
   "cell_type": "code",
   "execution_count": 72,
   "metadata": {},
   "outputs": [
    {
     "data": {
      "text/plain": [
       "[array([ -5.08503458e-23]),\n",
       " array([[ -8.14323992e-12,  -2.69180947e-22,  -1.06585367e-17,\n",
       "          -1.83013177e-20,  -3.54549321e-21,  -1.62322396e-21,\n",
       "          -3.86101912e-20,  -6.68655015e-24,  -1.83644654e-23,\n",
       "          -2.57993302e-23,  -1.80448703e-23,  -3.24668852e-23,\n",
       "          -2.55627357e-25,  -7.94336947e-26,  -1.83396556e-27,\n",
       "          -1.33372265e-27,  -1.70093223e-28,  -1.43267732e-28,\n",
       "          -1.68577891e-29,  -3.12811325e-29,  -3.15002546e-25,\n",
       "          -2.72661685e-24,  -5.89100630e-24,  -5.81138395e-24,\n",
       "          -6.58838699e-24,  -1.75659242e-24,  -2.19334988e-25,\n",
       "           7.09113473e-25,   1.06068426e-24,  -1.01476275e-24,\n",
       "          -4.97242481e-24,  -3.58997898e-24,  -3.09307138e-24,\n",
       "          -5.34456068e-24,  -4.82859664e-24,  -3.47016542e-24,\n",
       "          -2.99825879e-24,  -4.41243411e-23,  -2.82881488e-26,\n",
       "          -6.69771650e-24,  -1.08893546e-23,  -2.31875754e-23,\n",
       "          -1.67596132e-23,  -1.38026095e-26,  -4.96060773e-23,\n",
       "          -8.39889247e-25,  -2.06926405e-25,  -1.97452822e-25,\n",
       "          -2.63194081e-24,  -4.59221516e-23,  -2.29625334e-24,\n",
       "          -4.28214004e-24,  -3.86384366e-25,  -1.69885204e-26,\n",
       "          -9.21910907e-24,  -3.69457238e-23,  -2.43802136e-26,\n",
       "          -9.10031909e-26,  -1.12343451e-26,  -1.58316330e-26,\n",
       "          -6.33398615e-25,  -4.07467558e-24,  -6.08776470e-25,\n",
       "          -1.31288748e-26,  -2.54552321e-26,  -3.57975384e-26,\n",
       "           2.00622220e-26,   1.22907998e-26,  -4.52468292e-27,\n",
       "          -1.53785917e-26,  -1.39876960e-26,  -1.16664041e-26,\n",
       "          -2.01849558e-24,  -1.88345852e-25,  -1.49228075e-26,\n",
       "           7.36864800e-26,  -1.99661901e-26,  -1.33949541e-26,\n",
       "          -6.93204642e-25,  -1.02501918e-24,  -6.49847471e-25,\n",
       "          -2.41195798e-25,  -3.27880363e-25,  -1.22958833e-25,\n",
       "          -9.05683675e-27,  -1.44973348e-24,  -2.40245149e-26,\n",
       "          -1.60372114e-26,  -1.97938753e-25,  -4.60211192e-26,\n",
       "          -6.22483144e-26,  -3.12239590e-26,  -1.84642796e-26,\n",
       "          -1.84576639e-25,  -1.19610113e-26,  -2.36467872e-26,\n",
       "          -6.87950747e-26,  -4.35749788e-24,  -3.38472118e-24,\n",
       "          -4.53480798e-26,  -1.46874212e-26,  -1.47552601e-25,\n",
       "          -2.08317706e-25,  -4.60920329e-26,  -9.36430506e-26,\n",
       "          -1.82803665e-23,  -7.22917455e-27,  -2.47274357e-25,\n",
       "          -4.95727689e-25,  -1.29587485e-26,  -1.37784321e-25,\n",
       "          -3.47363147e-26,  -1.34666532e-26,  -1.03048327e-25,\n",
       "           4.32741117e-27,  -7.34464956e-25,  -3.42244788e-25,\n",
       "          -3.80865152e-25,  -2.05849969e-26,  -2.14379849e-25,\n",
       "          -3.84984293e-26,  -9.52203720e-25,  -1.49017498e-25,\n",
       "          -7.22106292e-26,  -9.84279024e-26,  -1.65024146e-26,\n",
       "          -6.80060489e-24,  -4.72056715e-25,  -1.18315719e-25,\n",
       "          -4.75253109e-25,  -3.37818341e-25,  -6.99029413e-25,\n",
       "          -1.00352057e-23,  -1.86956656e-24,  -7.23492583e-25,\n",
       "          -1.83195911e-25,  -1.98855377e-25,  -1.26856429e-24,\n",
       "          -7.43902532e-25,  -3.04016347e-27,  -3.89884908e-25,\n",
       "          -5.37347950e-25,  -2.85773913e-25,  -2.20012117e-24,\n",
       "          -6.22688198e-25,  -3.26561821e-25,  -3.70493699e-25,\n",
       "          -6.56574044e-25,  -2.11379317e-24,  -1.27995290e-24,\n",
       "          -2.03137003e-25,  -6.56675264e-25,  -9.93749858e-25,\n",
       "          -9.69358143e-25,  -2.21689009e-25,  -2.61400205e-25,\n",
       "          -1.21952749e-24,  -1.02409319e-25,  -3.56764710e-25,\n",
       "          -3.29103411e-25,  -1.80603894e-24,  -3.30339813e-25,\n",
       "          -1.66603948e-25,  -2.31787505e-24,  -9.29557945e-25,\n",
       "          -3.91539655e-25,  -1.03454099e-24,  -1.71955044e-24,\n",
       "          -1.28671463e-25,  -2.21681031e-25,  -5.55378064e-25,\n",
       "          -1.59112588e-25,  -7.04785470e-25,  -3.18660955e-24,\n",
       "          -7.55060263e-25,  -1.79642932e-24,  -8.83176752e-27,\n",
       "          -1.43827707e-25,  -1.96984894e-24,  -1.52901535e-24,\n",
       "          -9.81697392e-26,  -1.43631832e-25,  -3.74129983e-24,\n",
       "          -3.87442075e-24,  -4.46065382e-24,  -4.52441440e-24,\n",
       "          -4.51989964e-24,  -4.66416263e-24,  -4.57970482e-24,\n",
       "          -4.50568667e-24,  -3.74192253e-24,  -4.12073830e-24,\n",
       "          -3.98525609e-24,  -4.13218630e-24]])]"
      ]
     },
     "execution_count": 72,
     "metadata": {},
     "output_type": "execute_result"
    }
   ],
   "source": [
    "[lr_train.intercept_, lr_train.coef_]"
   ]
  },
  {
   "cell_type": "code",
   "execution_count": 73,
   "metadata": {},
   "outputs": [
    {
     "data": {
      "text/plain": [
       "-0.31028636833575202"
      ]
     },
     "execution_count": 73,
     "metadata": {},
     "output_type": "execute_result"
    }
   ],
   "source": [
    "skill_score(lr_valid_prob, y_valid)"
   ]
  },
  {
   "cell_type": "markdown",
   "metadata": {},
   "source": [
    "# Random forest"
   ]
  },
  {
   "cell_type": "markdown",
   "metadata": {},
   "source": [
    "The random forest's main tuning parameters are max_features (the number of variables it randomly selects to split on at each node) and min_samples_leaf (the number of samples in each terminal node). When you set n_jobs=-1, trees are grown up in parallel using all of your cores. We only use a 2% sample of our training set to fit the random forest. If we use too many rows, the algorithm is slow."
   ]
  },
  {
   "cell_type": "code",
   "execution_count": 103,
   "metadata": {},
   "outputs": [
    {
     "data": {
      "text/plain": [
       "(1063539, 194)"
      ]
     },
     "execution_count": 103,
     "metadata": {},
     "output_type": "execute_result"
    }
   ],
   "source": [
    "X_train_tiny, X_ignore, y_train_tiny, y_ignore = train_test_split(X_train, y_train, test_size=0.70, random_state=201)\n",
    "X_train_tiny.shape"
   ]
  },
  {
   "cell_type": "code",
   "execution_count": 75,
   "metadata": {},
   "outputs": [
    {
     "data": {
      "text/plain": [
       "449.2174868583679"
      ]
     },
     "execution_count": 75,
     "metadata": {},
     "output_type": "execute_result"
    }
   ],
   "source": [
    "algorithm_starts = time.time()\n",
    "rf = RandomForestClassifier(n_estimators=1000, max_features=13, min_samples_leaf=5, random_state=201, n_jobs=-1)\n",
    "rf_train = rf.fit(X_train_tiny, y_train_tiny)\n",
    "rf_valid_prob_all = pd.DataFrame(rf.predict_proba(X_valid))\n",
    "rf_valid_prob = rf_valid_prob_all[1]\n",
    "time.time() - algorithm_starts"
   ]
  },
  {
   "cell_type": "code",
   "execution_count": 76,
   "metadata": {},
   "outputs": [
    {
     "data": {
      "text/html": [
       "<div>\n",
       "<style>\n",
       "    .dataframe thead tr:only-child th {\n",
       "        text-align: right;\n",
       "    }\n",
       "\n",
       "    .dataframe thead th {\n",
       "        text-align: left;\n",
       "    }\n",
       "\n",
       "    .dataframe tbody tr th {\n",
       "        vertical-align: top;\n",
       "    }\n",
       "</style>\n",
       "<table border=\"1\" class=\"dataframe\">\n",
       "  <thead>\n",
       "    <tr style=\"text-align: right;\">\n",
       "      <th></th>\n",
       "      <th>0</th>\n",
       "    </tr>\n",
       "  </thead>\n",
       "  <tbody>\n",
       "    <tr>\n",
       "      <th>LOAN_IDENTIFIER</th>\n",
       "      <td>0.075505</td>\n",
       "    </tr>\n",
       "    <tr>\n",
       "      <th>ORIGINAL_INTEREST_RATE</th>\n",
       "      <td>0.081099</td>\n",
       "    </tr>\n",
       "    <tr>\n",
       "      <th>ORIGINAL_UNPAID_PRINCIPAL_BALANCE</th>\n",
       "      <td>0.087759</td>\n",
       "    </tr>\n",
       "    <tr>\n",
       "      <th>ORIGINAL_LOAN_TERM</th>\n",
       "      <td>0.000791</td>\n",
       "    </tr>\n",
       "    <tr>\n",
       "      <th>ORIGINAL_LOAN_TO_VALUE</th>\n",
       "      <td>0.078326</td>\n",
       "    </tr>\n",
       "    <tr>\n",
       "      <th>DEBT_TO_INCOME_RATIO</th>\n",
       "      <td>0.069553</td>\n",
       "    </tr>\n",
       "    <tr>\n",
       "      <th>BORROWER_CREDIT_SCORE</th>\n",
       "      <td>0.117604</td>\n",
       "    </tr>\n",
       "    <tr>\n",
       "      <th>is_CHANNEL_B</th>\n",
       "      <td>0.009181</td>\n",
       "    </tr>\n",
       "    <tr>\n",
       "      <th>is_CHANNEL_C</th>\n",
       "      <td>0.009119</td>\n",
       "    </tr>\n",
       "    <tr>\n",
       "      <th>is_CHANNEL_R</th>\n",
       "      <td>0.009277</td>\n",
       "    </tr>\n",
       "    <tr>\n",
       "      <th>Borrowers_is_1.0</th>\n",
       "      <td>0.009538</td>\n",
       "    </tr>\n",
       "    <tr>\n",
       "      <th>Borrowers_is_2.0</th>\n",
       "      <td>0.008993</td>\n",
       "    </tr>\n",
       "    <tr>\n",
       "      <th>Borrowers_is_3.0</th>\n",
       "      <td>0.000198</td>\n",
       "    </tr>\n",
       "    <tr>\n",
       "      <th>Borrowers_is_4.0</th>\n",
       "      <td>0.000046</td>\n",
       "    </tr>\n",
       "    <tr>\n",
       "      <th>Borrowers_is_5.0</th>\n",
       "      <td>0.000000</td>\n",
       "    </tr>\n",
       "    <tr>\n",
       "      <th>Borrowers_is_6.0</th>\n",
       "      <td>0.000000</td>\n",
       "    </tr>\n",
       "    <tr>\n",
       "      <th>Borrowers_is_7.0</th>\n",
       "      <td>0.000000</td>\n",
       "    </tr>\n",
       "    <tr>\n",
       "      <th>Borrowers_is_8.0</th>\n",
       "      <td>0.000000</td>\n",
       "    </tr>\n",
       "    <tr>\n",
       "      <th>Borrowers_is_9.0</th>\n",
       "      <td>0.000000</td>\n",
       "    </tr>\n",
       "    <tr>\n",
       "      <th>Borrowers_is_10.0</th>\n",
       "      <td>0.000000</td>\n",
       "    </tr>\n",
       "    <tr>\n",
       "      <th>is_YEAR_1999</th>\n",
       "      <td>0.000346</td>\n",
       "    </tr>\n",
       "    <tr>\n",
       "      <th>is_YEAR_2000</th>\n",
       "      <td>0.002920</td>\n",
       "    </tr>\n",
       "    <tr>\n",
       "      <th>is_YEAR_2001</th>\n",
       "      <td>0.006048</td>\n",
       "    </tr>\n",
       "    <tr>\n",
       "      <th>is_YEAR_2002</th>\n",
       "      <td>0.006635</td>\n",
       "    </tr>\n",
       "    <tr>\n",
       "      <th>is_YEAR_2003</th>\n",
       "      <td>0.006700</td>\n",
       "    </tr>\n",
       "    <tr>\n",
       "      <th>is_YEAR_2004</th>\n",
       "      <td>0.005219</td>\n",
       "    </tr>\n",
       "    <tr>\n",
       "      <th>is_YEAR_2005</th>\n",
       "      <td>0.016982</td>\n",
       "    </tr>\n",
       "    <tr>\n",
       "      <th>is_YEAR_2006</th>\n",
       "      <td>0.027211</td>\n",
       "    </tr>\n",
       "    <tr>\n",
       "      <th>is_YEAR_2007</th>\n",
       "      <td>0.034621</td>\n",
       "    </tr>\n",
       "    <tr>\n",
       "      <th>is_YEAR_2008</th>\n",
       "      <td>0.010249</td>\n",
       "    </tr>\n",
       "    <tr>\n",
       "      <th>...</th>\n",
       "      <td>...</td>\n",
       "    </tr>\n",
       "    <tr>\n",
       "      <th>PROPERTY_STATE_OH</th>\n",
       "      <td>0.005517</td>\n",
       "    </tr>\n",
       "    <tr>\n",
       "      <th>PROPERTY_STATE_OK</th>\n",
       "      <td>0.000931</td>\n",
       "    </tr>\n",
       "    <tr>\n",
       "      <th>PROPERTY_STATE_OR</th>\n",
       "      <td>0.001372</td>\n",
       "    </tr>\n",
       "    <tr>\n",
       "      <th>PROPERTY_STATE_PA</th>\n",
       "      <td>0.001889</td>\n",
       "    </tr>\n",
       "    <tr>\n",
       "      <th>PROPERTY_STATE_PR</th>\n",
       "      <td>0.000102</td>\n",
       "    </tr>\n",
       "    <tr>\n",
       "      <th>PROPERTY_STATE_RI</th>\n",
       "      <td>0.000430</td>\n",
       "    </tr>\n",
       "    <tr>\n",
       "      <th>PROPERTY_STATE_SC</th>\n",
       "      <td>0.001708</td>\n",
       "    </tr>\n",
       "    <tr>\n",
       "      <th>PROPERTY_STATE_SD</th>\n",
       "      <td>0.000094</td>\n",
       "    </tr>\n",
       "    <tr>\n",
       "      <th>PROPERTY_STATE_TN</th>\n",
       "      <td>0.001987</td>\n",
       "    </tr>\n",
       "    <tr>\n",
       "      <th>PROPERTY_STATE_TX</th>\n",
       "      <td>0.003316</td>\n",
       "    </tr>\n",
       "    <tr>\n",
       "      <th>PROPERTY_STATE_UT</th>\n",
       "      <td>0.000884</td>\n",
       "    </tr>\n",
       "    <tr>\n",
       "      <th>PROPERTY_STATE_VA</th>\n",
       "      <td>0.001381</td>\n",
       "    </tr>\n",
       "    <tr>\n",
       "      <th>PROPERTY_STATE_VI</th>\n",
       "      <td>0.000001</td>\n",
       "    </tr>\n",
       "    <tr>\n",
       "      <th>PROPERTY_STATE_VT</th>\n",
       "      <td>0.000060</td>\n",
       "    </tr>\n",
       "    <tr>\n",
       "      <th>PROPERTY_STATE_WA</th>\n",
       "      <td>0.002084</td>\n",
       "    </tr>\n",
       "    <tr>\n",
       "      <th>PROPERTY_STATE_WI</th>\n",
       "      <td>0.001876</td>\n",
       "    </tr>\n",
       "    <tr>\n",
       "      <th>PROPERTY_STATE_WV</th>\n",
       "      <td>0.000265</td>\n",
       "    </tr>\n",
       "    <tr>\n",
       "      <th>PROPERTY_STATE_WY</th>\n",
       "      <td>0.000090</td>\n",
       "    </tr>\n",
       "    <tr>\n",
       "      <th>MONTH_01</th>\n",
       "      <td>0.005133</td>\n",
       "    </tr>\n",
       "    <tr>\n",
       "      <th>MONTH_02</th>\n",
       "      <td>0.004768</td>\n",
       "    </tr>\n",
       "    <tr>\n",
       "      <th>MONTH_03</th>\n",
       "      <td>0.005385</td>\n",
       "    </tr>\n",
       "    <tr>\n",
       "      <th>MONTH_04</th>\n",
       "      <td>0.005225</td>\n",
       "    </tr>\n",
       "    <tr>\n",
       "      <th>MONTH_05</th>\n",
       "      <td>0.005154</td>\n",
       "    </tr>\n",
       "    <tr>\n",
       "      <th>MONTH_06</th>\n",
       "      <td>0.005213</td>\n",
       "    </tr>\n",
       "    <tr>\n",
       "      <th>MONTH_07</th>\n",
       "      <td>0.004948</td>\n",
       "    </tr>\n",
       "    <tr>\n",
       "      <th>MONTH_08</th>\n",
       "      <td>0.005112</td>\n",
       "    </tr>\n",
       "    <tr>\n",
       "      <th>MONTH_09</th>\n",
       "      <td>0.004861</td>\n",
       "    </tr>\n",
       "    <tr>\n",
       "      <th>MONTH_10</th>\n",
       "      <td>0.005356</td>\n",
       "    </tr>\n",
       "    <tr>\n",
       "      <th>MONTH_11</th>\n",
       "      <td>0.004977</td>\n",
       "    </tr>\n",
       "    <tr>\n",
       "      <th>MONTH_12</th>\n",
       "      <td>0.005117</td>\n",
       "    </tr>\n",
       "  </tbody>\n",
       "</table>\n",
       "<p>194 rows × 1 columns</p>\n",
       "</div>"
      ],
      "text/plain": [
       "                                          0\n",
       "LOAN_IDENTIFIER                    0.075505\n",
       "ORIGINAL_INTEREST_RATE             0.081099\n",
       "ORIGINAL_UNPAID_PRINCIPAL_BALANCE  0.087759\n",
       "ORIGINAL_LOAN_TERM                 0.000791\n",
       "ORIGINAL_LOAN_TO_VALUE             0.078326\n",
       "DEBT_TO_INCOME_RATIO               0.069553\n",
       "BORROWER_CREDIT_SCORE              0.117604\n",
       "is_CHANNEL_B                       0.009181\n",
       "is_CHANNEL_C                       0.009119\n",
       "is_CHANNEL_R                       0.009277\n",
       "Borrowers_is_1.0                   0.009538\n",
       "Borrowers_is_2.0                   0.008993\n",
       "Borrowers_is_3.0                   0.000198\n",
       "Borrowers_is_4.0                   0.000046\n",
       "Borrowers_is_5.0                   0.000000\n",
       "Borrowers_is_6.0                   0.000000\n",
       "Borrowers_is_7.0                   0.000000\n",
       "Borrowers_is_8.0                   0.000000\n",
       "Borrowers_is_9.0                   0.000000\n",
       "Borrowers_is_10.0                  0.000000\n",
       "is_YEAR_1999                       0.000346\n",
       "is_YEAR_2000                       0.002920\n",
       "is_YEAR_2001                       0.006048\n",
       "is_YEAR_2002                       0.006635\n",
       "is_YEAR_2003                       0.006700\n",
       "is_YEAR_2004                       0.005219\n",
       "is_YEAR_2005                       0.016982\n",
       "is_YEAR_2006                       0.027211\n",
       "is_YEAR_2007                       0.034621\n",
       "is_YEAR_2008                       0.010249\n",
       "...                                     ...\n",
       "PROPERTY_STATE_OH                  0.005517\n",
       "PROPERTY_STATE_OK                  0.000931\n",
       "PROPERTY_STATE_OR                  0.001372\n",
       "PROPERTY_STATE_PA                  0.001889\n",
       "PROPERTY_STATE_PR                  0.000102\n",
       "PROPERTY_STATE_RI                  0.000430\n",
       "PROPERTY_STATE_SC                  0.001708\n",
       "PROPERTY_STATE_SD                  0.000094\n",
       "PROPERTY_STATE_TN                  0.001987\n",
       "PROPERTY_STATE_TX                  0.003316\n",
       "PROPERTY_STATE_UT                  0.000884\n",
       "PROPERTY_STATE_VA                  0.001381\n",
       "PROPERTY_STATE_VI                  0.000001\n",
       "PROPERTY_STATE_VT                  0.000060\n",
       "PROPERTY_STATE_WA                  0.002084\n",
       "PROPERTY_STATE_WI                  0.001876\n",
       "PROPERTY_STATE_WV                  0.000265\n",
       "PROPERTY_STATE_WY                  0.000090\n",
       "MONTH_01                           0.005133\n",
       "MONTH_02                           0.004768\n",
       "MONTH_03                           0.005385\n",
       "MONTH_04                           0.005225\n",
       "MONTH_05                           0.005154\n",
       "MONTH_06                           0.005213\n",
       "MONTH_07                           0.004948\n",
       "MONTH_08                           0.005112\n",
       "MONTH_09                           0.004861\n",
       "MONTH_10                           0.005356\n",
       "MONTH_11                           0.004977\n",
       "MONTH_12                           0.005117\n",
       "\n",
       "[194 rows x 1 columns]"
      ]
     },
     "execution_count": 76,
     "metadata": {},
     "output_type": "execute_result"
    }
   ],
   "source": [
    "pd.DataFrame(rf_train.feature_importances_, index=X_train.columns)"
   ]
  },
  {
   "cell_type": "code",
   "execution_count": 77,
   "metadata": {},
   "outputs": [
    {
     "data": {
      "text/plain": [
       "0.090480796805040606"
      ]
     },
     "execution_count": 77,
     "metadata": {},
     "output_type": "execute_result"
    }
   ],
   "source": [
    "skill_score(rf_valid_prob, y_valid)"
   ]
  },
  {
   "cell_type": "markdown",
   "metadata": {},
   "source": [
    "# Boosted trees model"
   ]
  },
  {
   "cell_type": "code",
   "execution_count": 109,
   "metadata": {},
   "outputs": [],
   "source": [
    "X_train_xgb = xgb.DMatrix(X_train, label = y_train)\n",
    "X_valid_xgb = xgb.DMatrix(X_valid)\n",
    "X_only_train_xgb = xgb.DMatrix(X_train)"
   ]
  },
  {
   "cell_type": "code",
   "execution_count": 110,
   "metadata": {
    "collapsed": true
   },
   "outputs": [],
   "source": [
    "num_round_for_cv = 200\n",
    "param = {'max_depth':5, 'eta':0.3, 'seed':201, 'objective':'binary:logistic', 'nthread':16}"
   ]
  },
  {
   "cell_type": "markdown",
   "metadata": {},
   "source": [
    "Note: xgboost automatically runs in parallel on all of your machine's cores."
   ]
  },
  {
   "cell_type": "code",
   "execution_count": null,
   "metadata": {},
   "outputs": [],
   "source": [
    "algorithm_starts = time.time()\n",
    "xgb.cv(param,\n",
    "       X_train_xgb,\n",
    "       num_round_for_cv,\n",
    "       nfold = 10,\n",
    "       show_stdv = False,\n",
    "       verbose_eval = True,\n",
    "       as_pandas = False)\n",
    "time.time() - algorithm_starts"
   ]
  },
  {
   "cell_type": "code",
   "execution_count": 111,
   "metadata": {},
   "outputs": [
    {
     "data": {
      "text/plain": [
       "516.1496262550354"
      ]
     },
     "execution_count": 111,
     "metadata": {},
     "output_type": "execute_result"
    }
   ],
   "source": [
    "algorithm_starts = time.time()\n",
    "num_round = 200\n",
    "xgb_train = xgb.train(param, X_train_xgb, num_round)\n",
    "xgb_valid_prob = pd.Series(xgb_train.predict(X_only_train_xgb))\n",
    "time.time() - algorithm_starts"
   ]
  },
  {
   "cell_type": "code",
   "execution_count": 112,
   "metadata": {},
   "outputs": [
    {
     "data": {
      "text/plain": [
       "<matplotlib.axes._subplots.AxesSubplot at 0x7f5199363b00>"
      ]
     },
     "execution_count": 112,
     "metadata": {},
     "output_type": "execute_result"
    },
    {
     "data": {
      "image/png": "[encoded data removed]",
      "text/plain": [
       "<matplotlib.figure.Figure at 0x7f5199363fd0>"
      ]
     },
     "metadata": {},
     "output_type": "display_data"
    }
   ],
   "source": [
    "xgb.plot_importance(xgb_train)"
   ]
  },
  {
   "cell_type": "code",
   "execution_count": 113,
   "metadata": {},
   "outputs": [
    {
     "data": {
      "text/plain": [
       "0.12333395479193281"
      ]
     },
     "execution_count": 113,
     "metadata": {},
     "output_type": "execute_result"
    }
   ],
   "source": [
    "skill_score(xgb_valid_prob, y_train)"
   ]
  },
  {
   "cell_type": "markdown",
   "metadata": {},
   "source": [
    "# Make predictions in the testing set"
   ]
  },
  {
   "cell_type": "code",
   "execution_count": 114,
   "metadata": {
    "collapsed": true
   },
   "outputs": [],
   "source": [
    "X_orig_train_xgb = xgb.DMatrix(X_orig_train, label = y_orig_train)\n",
    "X_test_xgb = xgb.DMatrix(X_test)\n",
    "xgb_orig_train = xgb.train(param, X_orig_train_xgb, num_round)\n",
    "xgb_test_prob = pd.Series(xgb_train.predict(X_test_xgb))"
   ]
  },
  {
   "cell_type": "code",
   "execution_count": 115,
   "metadata": {},
   "outputs": [
    {
     "data": {
      "text/plain": [
       "0.10800953114449403"
      ]
     },
     "execution_count": 115,
     "metadata": {},
     "output_type": "execute_result"
    }
   ],
   "source": [
    "skill_score(xgb_test_prob, y_test)"
   ]
  },
  {
   "cell_type": "markdown",
   "metadata": {},
   "source": [
    "Also, make in-sample predictions."
   ]
  },
  {
   "cell_type": "code",
   "execution_count": 116,
   "metadata": {
    "collapsed": true
   },
   "outputs": [],
   "source": [
    "xgb_orig_train_prob = pd.Series(xgb_orig_train.predict(X_orig_train_xgb))"
   ]
  },
  {
   "cell_type": "markdown",
   "metadata": {},
   "source": [
    "# Visualize your predictions"
   ]
  },
  {
   "cell_type": "code",
   "execution_count": 117,
   "metadata": {
    "collapsed": true
   },
   "outputs": [],
   "source": [
    "check_predictions = xgb_test_prob"
   ]
  },
  {
   "cell_type": "markdown",
   "metadata": {},
   "source": [
    "Look at a calibration plot. On the x-axis are binned predictions made (probabilities) and on the y-axis are default rates (average of DEFAULT_FLAG) for those predictions. Where should the points lie if your predictions are well-calibrated?"
   ]
  },
  {
   "cell_type": "code",
   "execution_count": 118,
   "metadata": {},
   "outputs": [
    {
     "data": {
      "image/png": "[encoded data removed]",
      "text/plain": [
       "<matplotlib.figure.Figure at 0x7f50f5ab24e0>"
      ]
     },
     "metadata": {},
     "output_type": "display_data"
    }
   ],
   "source": [
    "index_BIN_01 = xgb_test_prob[(check_predictions > -0.01) & (check_predictions <= 0.01)].index.get_values()\n",
    "index_BIN_02 = xgb_test_prob[(check_predictions >  0.01) & (check_predictions <= 0.02)].index.get_values()\n",
    "index_BIN_03 = xgb_test_prob[(check_predictions >  0.02) & (check_predictions <= 0.03)].index.get_values()\n",
    "index_BIN_04 = xgb_test_prob[(check_predictions >  0.03) & (check_predictions <= 0.04)].index.get_values()\n",
    "index_BIN_05 = xgb_test_prob[(check_predictions >  0.04) & (check_predictions <= 0.05)].index.get_values()\n",
    "index_BIN_06 = xgb_test_prob[(check_predictions >  0.05) & (check_predictions <= 0.06)].index.get_values()\n",
    "index_BIN_07 = xgb_test_prob[(check_predictions >  0.06) & (check_predictions <= 0.07)].index.get_values()\n",
    "index_BIN_08 = xgb_test_prob[(check_predictions >  0.07) & (check_predictions <= 0.08)].index.get_values()\n",
    "index_BIN_09 = xgb_test_prob[(check_predictions >  0.08) & (check_predictions <= 0.09)].index.get_values()\n",
    "index_BIN_10 = xgb_test_prob[(check_predictions >  0.09) & (check_predictions <= 0.10)].index.get_values()\n",
    "index_BIN_11 = xgb_test_prob[(check_predictions >  0.10) & (check_predictions <= 0.12)].index.get_values()\n",
    "index_BIN_12 = xgb_test_prob[(check_predictions >  0.11) & (check_predictions <= 0.12)].index.get_values()\n",
    "index_BIN_13 = xgb_test_prob[(check_predictions >  0.12) & (check_predictions <= 0.13)].index.get_values()\n",
    "index_BIN_14 = xgb_test_prob[(check_predictions >  0.13) & (check_predictions <= 0.14)].index.get_values()\n",
    "index_BIN_15 = xgb_test_prob[(check_predictions >  0.15) & (check_predictions <= 0.15)].index.get_values()\n",
    "x_values = [0.01, 0.02, 0.03, 0.04, 0.05, 0.06, 0.07, 0.08, 0.09, 0.10, 0.11, 0.12, 0.13, 0.14, 0.15]\n",
    "y_values = [np.mean(y_test[index_BIN_01]), np.mean(y_test[index_BIN_02]), np.mean(y_test[index_BIN_03]),\n",
    "            np.mean(y_test[index_BIN_04]), np.mean(y_test[index_BIN_05]), np.mean(y_test[index_BIN_06]),\n",
    "            np.mean(y_test[index_BIN_07]), np.mean(y_test[index_BIN_08]), np.mean(y_test[index_BIN_09]), \n",
    "            np.mean(y_test[index_BIN_10]), np.mean(y_test[index_BIN_11]), np.mean(y_test[index_BIN_12]), \n",
    "            np.mean(y_test[index_BIN_13]), np.mean(y_test[index_BIN_14]), np.mean(y_test[index_BIN_15])]\n",
    "plt.figure(figsize=(6,6))\n",
    "plt.scatter(x_values, y_values)\n",
    "plt.xlabel('Predictions made within a bin')\n",
    "plt.ylabel('Default rate for predictions made within a bin')\n",
    "plt.title('Calibration Plot')\n",
    "plt.xlim(0,0.16)\n",
    "plt.ylim(0,0.16)\n",
    "plt.plot([0,1], [0,1], color='r', linestyle='-', linewidth=2)\n",
    "plt.show()"
   ]
  },
  {
   "cell_type": "markdown",
   "metadata": {},
   "source": [
    "Look at discrimination plots: (1) the histogram of your predictions when defaults occurred (first histogram below) and (2) the histogram of your predictions when defaults did not occur (second histogram below). Which histogram should have more probabilities closer to one? Which closer to zero? "
   ]
  },
  {
   "cell_type": "code",
   "execution_count": 119,
   "metadata": {},
   "outputs": [
    {
     "data": {
      "text/plain": [
       "<matplotlib.text.Text at 0x7f50f5c17390>"
      ]
     },
     "execution_count": 119,
     "metadata": {},
     "output_type": "execute_result"
    },
    {
     "data": {
      "image/png": "[encoded data removed]",
      "text/plain": [
       "<matplotlib.figure.Figure at 0x7f522a0c5ac8>"
      ]
     },
     "metadata": {},
     "output_type": "display_data"
    }
   ],
   "source": [
    "index_DEFAULT = y_test[y_test == 1].index.get_values()\n",
    "check_predictions[index_DEFAULT].hist(bins=20)\n",
    "plt.xlabel('Predictions made within a bin')\n",
    "plt.ylabel('Frequency of defaults within a bin')\n",
    "plt.title('Discrimination Plot (Defaulted Loans Only)')"
   ]
  },
  {
   "cell_type": "code",
   "execution_count": 120,
   "metadata": {},
   "outputs": [
    {
     "data": {
      "text/plain": [
       "<matplotlib.text.Text at 0x7f50f5995a58>"
      ]
     },
     "execution_count": 120,
     "metadata": {},
     "output_type": "execute_result"
    },
    {
     "data": {
      "image/png": "[encoded data removed]",
      "text/plain": [
       "<matplotlib.figure.Figure at 0x7f50f5de3e48>"
      ]
     },
     "metadata": {},
     "output_type": "display_data"
    }
   ],
   "source": [
    "index_NO_DEFAULT = y_test[y_test == 0].index.get_values()\n",
    "check_predictions[index_NO_DEFAULT].hist(bins=20)\n",
    "plt.xlabel('Predictions made within a bin')\n",
    "plt.ylabel('Frequency of non-defaults within a bin')\n",
    "plt.title('Discrimination Plot (Non-Defaulted Loans Only)')"
   ]
  },
  {
   "cell_type": "markdown",
   "metadata": {},
   "source": [
    "# Write out the data with your predictions"
   ]
  },
  {
   "cell_type": "markdown",
   "metadata": {},
   "source": [
    "Append your out-of-sample predictions to your in-sample predictions."
   ]
  },
  {
   "cell_type": "code",
   "execution_count": 121,
   "metadata": {
    "collapsed": true
   },
   "outputs": [],
   "source": [
    "final_predictions = xgb_orig_train_prob.append(xgb_test_prob)\n",
    "final_predictions = pd.DataFrame(final_predictions.values.reshape(-1, 1), columns=['Final_Predictions'])"
   ]
  },
  {
   "cell_type": "markdown",
   "metadata": {},
   "source": [
    "Concatenate the original data frame and your final predictions."
   ]
  },
  {
   "cell_type": "code",
   "execution_count": 122,
   "metadata": {},
   "outputs": [
    {
     "data": {
      "text/html": [
       "<div>\n",
       "<style>\n",
       "    .dataframe thead tr:only-child th {\n",
       "        text-align: right;\n",
       "    }\n",
       "\n",
       "    .dataframe thead th {\n",
       "        text-align: left;\n",
       "    }\n",
       "\n",
       "    .dataframe tbody tr th {\n",
       "        vertical-align: top;\n",
       "    }\n",
       "</style>\n",
       "<table border=\"1\" class=\"dataframe\">\n",
       "  <thead>\n",
       "    <tr style=\"text-align: right;\">\n",
       "      <th></th>\n",
       "      <th>LOAN_IDENTIFIER</th>\n",
       "      <th>CHANNEL</th>\n",
       "      <th>SELLER_NAME</th>\n",
       "      <th>ORIGINAL_INTEREST_RATE</th>\n",
       "      <th>ORIGINAL_UNPAID_PRINCIPAL_BALANCE</th>\n",
       "      <th>ORIGINAL_LOAN_TERM</th>\n",
       "      <th>ORIGINATION_DATE</th>\n",
       "      <th>FIRST_PAYMENT_DATE</th>\n",
       "      <th>ORIGINAL_LOAN_TO_VALUE</th>\n",
       "      <th>ORIGINAL_COMBINED_LOAN_TO_VALUE</th>\n",
       "      <th>...</th>\n",
       "      <th>MORTGAGE_INSURANCE_TYPE</th>\n",
       "      <th>METROPOLITAN_STATISTICAL_AREA</th>\n",
       "      <th>MSA_NAME</th>\n",
       "      <th>MSA_POPULATION</th>\n",
       "      <th>ZERO_BALANCE_CODE</th>\n",
       "      <th>YEAR</th>\n",
       "      <th>DEFAULT_FLAG</th>\n",
       "      <th>is_Set</th>\n",
       "      <th>MONTH</th>\n",
       "      <th>Final_Predictions</th>\n",
       "    </tr>\n",
       "  </thead>\n",
       "  <tbody>\n",
       "    <tr>\n",
       "      <th>0</th>\n",
       "      <td>731259366993</td>\n",
       "      <td>R</td>\n",
       "      <td>BANK OF AMERICA, N.A.</td>\n",
       "      <td>6.875</td>\n",
       "      <td>108000.0</td>\n",
       "      <td>360</td>\n",
       "      <td>10/2008</td>\n",
       "      <td>12/2008</td>\n",
       "      <td>70.0</td>\n",
       "      <td>70.0</td>\n",
       "      <td>...</td>\n",
       "      <td>NaN</td>\n",
       "      <td>31080</td>\n",
       "      <td>Los Angeles-Long Beach-Anaheim, CA</td>\n",
       "      <td>12828837.0</td>\n",
       "      <td>NaN</td>\n",
       "      <td>2008</td>\n",
       "      <td>0</td>\n",
       "      <td>train</td>\n",
       "      <td>10</td>\n",
       "      <td>0.026108</td>\n",
       "    </tr>\n",
       "    <tr>\n",
       "      <th>1</th>\n",
       "      <td>378253318765</td>\n",
       "      <td>R</td>\n",
       "      <td>OTHER</td>\n",
       "      <td>4.000</td>\n",
       "      <td>168000.0</td>\n",
       "      <td>360</td>\n",
       "      <td>06/2015</td>\n",
       "      <td>08/2015</td>\n",
       "      <td>73.0</td>\n",
       "      <td>73.0</td>\n",
       "      <td>...</td>\n",
       "      <td>NaN</td>\n",
       "      <td>28140</td>\n",
       "      <td>Kansas City, MO-KS</td>\n",
       "      <td>2009342.0</td>\n",
       "      <td>NaN</td>\n",
       "      <td>2015</td>\n",
       "      <td>0</td>\n",
       "      <td>train</td>\n",
       "      <td>06</td>\n",
       "      <td>0.000014</td>\n",
       "    </tr>\n",
       "    <tr>\n",
       "      <th>2</th>\n",
       "      <td>741859238541</td>\n",
       "      <td>C</td>\n",
       "      <td>GMAC MORTGAGE, LLC</td>\n",
       "      <td>6.500</td>\n",
       "      <td>140000.0</td>\n",
       "      <td>360</td>\n",
       "      <td>08/2008</td>\n",
       "      <td>10/2008</td>\n",
       "      <td>85.0</td>\n",
       "      <td>85.0</td>\n",
       "      <td>...</td>\n",
       "      <td>1.0</td>\n",
       "      <td>44180</td>\n",
       "      <td>Springfield, MO</td>\n",
       "      <td>436712.0</td>\n",
       "      <td>1.0</td>\n",
       "      <td>2008</td>\n",
       "      <td>0</td>\n",
       "      <td>train</td>\n",
       "      <td>08</td>\n",
       "      <td>0.029008</td>\n",
       "    </tr>\n",
       "    <tr>\n",
       "      <th>3</th>\n",
       "      <td>382868191590</td>\n",
       "      <td>R</td>\n",
       "      <td>OTHER</td>\n",
       "      <td>4.000</td>\n",
       "      <td>356000.0</td>\n",
       "      <td>360</td>\n",
       "      <td>03/2015</td>\n",
       "      <td>05/2015</td>\n",
       "      <td>75.0</td>\n",
       "      <td>75.0</td>\n",
       "      <td>...</td>\n",
       "      <td>NaN</td>\n",
       "      <td>47900</td>\n",
       "      <td>Washington-Arlington-Alexandria, DC-VA-MD-WV</td>\n",
       "      <td>5636232.0</td>\n",
       "      <td>NaN</td>\n",
       "      <td>2015</td>\n",
       "      <td>0</td>\n",
       "      <td>train</td>\n",
       "      <td>03</td>\n",
       "      <td>0.000010</td>\n",
       "    </tr>\n",
       "    <tr>\n",
       "      <th>4</th>\n",
       "      <td>180085005240</td>\n",
       "      <td>C</td>\n",
       "      <td>AMTRUST BANK</td>\n",
       "      <td>7.250</td>\n",
       "      <td>121000.0</td>\n",
       "      <td>360</td>\n",
       "      <td>03/2001</td>\n",
       "      <td>05/2001</td>\n",
       "      <td>84.0</td>\n",
       "      <td>84.0</td>\n",
       "      <td>...</td>\n",
       "      <td>1.0</td>\n",
       "      <td>39300</td>\n",
       "      <td>Providence-Warwick, RI-MA</td>\n",
       "      <td>1600852.0</td>\n",
       "      <td>1.0</td>\n",
       "      <td>2001</td>\n",
       "      <td>0</td>\n",
       "      <td>train</td>\n",
       "      <td>03</td>\n",
       "      <td>0.014111</td>\n",
       "    </tr>\n",
       "  </tbody>\n",
       "</table>\n",
       "<p>5 rows × 33 columns</p>\n",
       "</div>"
      ],
      "text/plain": [
       "   LOAN_IDENTIFIER CHANNEL            SELLER_NAME  ORIGINAL_INTEREST_RATE  \\\n",
       "0     731259366993       R  BANK OF AMERICA, N.A.                   6.875   \n",
       "1     378253318765       R                  OTHER                   4.000   \n",
       "2     741859238541       C     GMAC MORTGAGE, LLC                   6.500   \n",
       "3     382868191590       R                  OTHER                   4.000   \n",
       "4     180085005240       C           AMTRUST BANK                   7.250   \n",
       "\n",
       "   ORIGINAL_UNPAID_PRINCIPAL_BALANCE  ORIGINAL_LOAN_TERM ORIGINATION_DATE  \\\n",
       "0                           108000.0                 360          10/2008   \n",
       "1                           168000.0                 360          06/2015   \n",
       "2                           140000.0                 360          08/2008   \n",
       "3                           356000.0                 360          03/2015   \n",
       "4                           121000.0                 360          03/2001   \n",
       "\n",
       "  FIRST_PAYMENT_DATE  ORIGINAL_LOAN_TO_VALUE  ORIGINAL_COMBINED_LOAN_TO_VALUE  \\\n",
       "0            12/2008                    70.0                             70.0   \n",
       "1            08/2015                    73.0                             73.0   \n",
       "2            10/2008                    85.0                             85.0   \n",
       "3            05/2015                    75.0                             75.0   \n",
       "4            05/2001                    84.0                             84.0   \n",
       "\n",
       "         ...          MORTGAGE_INSURANCE_TYPE  METROPOLITAN_STATISTICAL_AREA  \\\n",
       "0        ...                              NaN                          31080   \n",
       "1        ...                              NaN                          28140   \n",
       "2        ...                              1.0                          44180   \n",
       "3        ...                              NaN                          47900   \n",
       "4        ...                              1.0                          39300   \n",
       "\n",
       "                                       MSA_NAME MSA_POPULATION  \\\n",
       "0            Los Angeles-Long Beach-Anaheim, CA     12828837.0   \n",
       "1                            Kansas City, MO-KS      2009342.0   \n",
       "2                               Springfield, MO       436712.0   \n",
       "3  Washington-Arlington-Alexandria, DC-VA-MD-WV      5636232.0   \n",
       "4                     Providence-Warwick, RI-MA      1600852.0   \n",
       "\n",
       "  ZERO_BALANCE_CODE  YEAR  DEFAULT_FLAG is_Set MONTH  Final_Predictions  \n",
       "0               NaN  2008             0  train    10           0.026108  \n",
       "1               NaN  2015             0  train    06           0.000014  \n",
       "2               1.0  2008             0  train    08           0.029008  \n",
       "3               NaN  2015             0  train    03           0.000010  \n",
       "4               1.0  2001             0  train    03           0.014111  \n",
       "\n",
       "[5 rows x 33 columns]"
      ]
     },
     "execution_count": 122,
     "metadata": {},
     "output_type": "execute_result"
    }
   ],
   "source": [
    "df_out = pd.concat([df, final_predictions], axis=1)\n",
    "df_out.head()"
   ]
  },
  {
   "cell_type": "markdown",
   "metadata": {},
   "source": [
    "Write out the csv of the data with your predictions. Use this csv in Tableau to study your predictions geographically."
   ]
  },
  {
   "cell_type": "code",
   "execution_count": 123,
   "metadata": {
    "collapsed": true
   },
   "outputs": [],
   "source": [
    "df_out.to_csv('FannieDataWithPredCompetition.csv', sep='|', index=False)"
   ]
  },
  {
   "cell_type": "code",
   "execution_count": null,
   "metadata": {
    "collapsed": true
   },
   "outputs": [],
   "source": []
  }
 ],
 "metadata": {
  "anaconda-cloud": {},
  "kernelspec": {
   "display_name": "Python [default]",
   "language": "python",
   "name": "python3"
  },
  "language_info": {
   "codemirror_mode": {
    "name": "ipython",
    "version": 3
   },
   "file_extension": ".py",
   "mimetype": "text/x-python",
   "name": "python",
   "nbconvert_exporter": "python",
   "pygments_lexer": "ipython3",
   "version": "3.5.4"
  }
 },
 "nbformat": 4,
 "nbformat_minor": 1
}
